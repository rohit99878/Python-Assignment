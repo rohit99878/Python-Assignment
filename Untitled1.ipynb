{
 "cells": [
  {
   "cell_type": "code",
   "execution_count": null,
   "id": "c9167555",
   "metadata": {},
   "outputs": [
    {
     "name": "stdout",
     "output_type": "stream",
     "text": [
      "Enter 1st value : 10\n",
      "Enter 2nd value : 20\n",
      "Enter +,-,*,/ : *\n",
      "Multiplication : 200.0\n",
      "Do you want to perform another calculation? (y/n): y\n"
     ]
    }
   ],
   "source": [
    "def calculator():\n",
    "    a = float(input(\"Enter 1st value : \"))\n",
    "    b = float(input(\"Enter 2nd value : \"))\n",
    "    c = input(\"Enter +,-,*,/ : \")\n",
    "\n",
    "    if c == '+':\n",
    "        result = a + b\n",
    "        print(\"addition :\",result)\n",
    "\n",
    "    elif c == '-':\n",
    "        result = a - b\n",
    "        print(\"Subtraction :\",result)\n",
    "\n",
    "    elif c == '*':\n",
    "        result = a * b\n",
    "        print(\"Multiplication :\",result)\n",
    "\n",
    "    else:\n",
    "        result = a / b\n",
    "        print(\"Division :\",result) \n",
    "    another_calculation = input(\"Do you want to perform another calculation? (y/n): \")\n",
    "    if another_calculation == \"y\":\n",
    "        calculator()\n",
    "\n",
    "calculator()"
   ]
  },
  {
   "cell_type": "code",
   "execution_count": null,
   "id": "d0fdcf94",
   "metadata": {},
   "outputs": [],
   "source": []
  }
 ],
 "metadata": {
  "kernelspec": {
   "display_name": "Python 3 (ipykernel)",
   "language": "python",
   "name": "python3"
  },
  "language_info": {
   "codemirror_mode": {
    "name": "ipython",
    "version": 3
   },
   "file_extension": ".py",
   "mimetype": "text/x-python",
   "name": "python",
   "nbconvert_exporter": "python",
   "pygments_lexer": "ipython3",
   "version": "3.9.12"
  }
 },
 "nbformat": 4,
 "nbformat_minor": 5
}

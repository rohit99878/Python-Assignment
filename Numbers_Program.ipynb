{
 "cells": [
  {
   "cell_type": "markdown",
   "id": "ecfb8ba1",
   "metadata": {},
   "source": [
    "### Armstrong Number : \n",
    "An Armstrong number is one whose sum of digits raised to the power three equals the number itself. 371, for example, is an Armstrong number because 3**3 + 7**3 + 1**3 = 371"
   ]
  },
  {
   "cell_type": "code",
   "execution_count": null,
   "id": "88b2ea5e",
   "metadata": {},
   "outputs": [],
   "source": [
    "a = int(input(\"Enter : \"))\n",
    "b = a\n",
    "mul = 0\n",
    "while b>0:\n",
    "    arm = b % 10\n",
    "    mul += arm*arm*arm\n",
    "    b = b // 10\n",
    "if a == mul:\n",
    "    print(\"arm\")\n",
    "else:\n",
    "    print(\"not arm\")"
   ]
  },
  {
   "cell_type": "markdown",
   "id": "899efa1f",
   "metadata": {},
   "source": [
    "### Fibonacci series : \n",
    "a series of numbers in which each number ( Fibonacci number ) is the sum of the two preceding numbers. The simplest is the series 1, 1, 2, 3, 5, 8, etc."
   ]
  },
  {
   "cell_type": "code",
   "execution_count": null,
   "id": "786d2804",
   "metadata": {},
   "outputs": [],
   "source": [
    "a = 0\n",
    "b = 1\n",
    "c = 0\n",
    "d = int(input(\"Enter range : \"))\n",
    "for i in range(0,d):\n",
    "    print(a)\n",
    "    c = a + b\n",
    "    a = b\n",
    "    b = c"
   ]
  },
  {
   "cell_type": "markdown",
   "id": "a1ecc741",
   "metadata": {},
   "source": [
    "### Palindrome Number : \n",
    "There are 90 palindromic numbers with three digits (Using the Rule of product: 9 choices for the first digit - which determines the third digit as well - multiplied by 10 choices for the second digit): {101, 111, 121, 131, 141, 151, 161, 171, 181, 191, …, 909, 919, 929, 939, 949, 959, 969, 979, 989, 999}"
   ]
  },
  {
   "cell_type": "code",
   "execution_count": 1,
   "id": "74bffb5a",
   "metadata": {},
   "outputs": [
    {
     "name": "stdout",
     "output_type": "stream",
     "text": [
      "Palindrome\n"
     ]
    }
   ],
   "source": [
    "a = 101\n",
    "b = a\n",
    "rev = 0\n",
    "while b > 0 :\n",
    "    c = b%10\n",
    "    rev = (rev*10)+ c\n",
    "    b = b // 10\n",
    "\n",
    "if rev == a:\n",
    "    print(\"Palindrome\")\n",
    "else:\n",
    "    print(\"Not Palindrome\")"
   ]
  },
  {
   "cell_type": "markdown",
   "id": "02e146c3",
   "metadata": {},
   "source": [
    "### Prime number :\n",
    "A prime number is a whole number greater than 1 whose only factors are 1 and itself. A factor is a whole number that can be divided evenly into another number. The first few prime numbers are 2, 3, 5, 7, 11, 13, 17, 19, 23 and 29. Numbers that have more than two factors are called composite numbers."
   ]
  },
  {
   "cell_type": "code",
   "execution_count": null,
   "id": "68b4f788",
   "metadata": {},
   "outputs": [],
   "source": [
    "for i in range(1,100):\n",
    "    for j in range(2,i):\n",
    "        if i % j == 0:\n",
    "            break\n",
    "    else :\n",
    "        if i == 1:\n",
    "            pass\n",
    "        else:\n",
    "            print(i)"
   ]
  },
  {
   "cell_type": "code",
   "execution_count": null,
   "id": "794c72f7",
   "metadata": {},
   "outputs": [],
   "source": [
    "for i in range(0,6):\n",
    "    for j in range(0,i+1):\n",
    "        print('*',end = ' ')\n",
    "    endl"
   ]
  },
  {
   "cell_type": "code",
   "execution_count": null,
   "id": "d3fbd2a1",
   "metadata": {},
   "outputs": [],
   "source": [
    "sum=0\n",
    "for i in range(45,48):\n",
    "    \n",
    "    rem= i//10\n",
    "    ld= i%10\n",
    "    c= rem+ld\n",
    "    sum+=c\n",
    "print(sum)"
   ]
  },
  {
   "cell_type": "code",
   "execution_count": 5,
   "id": "706bc028",
   "metadata": {},
   "outputs": [
    {
     "name": "stdout",
     "output_type": "stream",
     "text": [
      "26.666666666666668\n"
     ]
    }
   ],
   "source": [
    "a = [20,30,30]\n",
    "sum = 0\n",
    "count = 0\n",
    "avg = 0\n",
    "for i in a:\n",
    "    sum += i\n",
    "    count += 1\n",
    "avg = sum/count\n",
    "print(avg)"
   ]
  },
  {
   "cell_type": "code",
   "execution_count": 6,
   "id": "95fd6d47",
   "metadata": {},
   "outputs": [
    {
     "name": "stdout",
     "output_type": "stream",
     "text": [
      "[10, 20]\n"
     ]
    }
   ],
   "source": [
    "list = [10,10,20,20]\n",
    "list1 = []\n",
    "for i in list:\n",
    "    if i not in list1:\n",
    "        list1.append(i)\n",
    "print(list1)"
   ]
  },
  {
   "cell_type": "code",
   "execution_count": null,
   "id": "19447be4",
   "metadata": {},
   "outputs": [],
   "source": []
  }
 ],
 "metadata": {
  "kernelspec": {
   "display_name": "Python 3 (ipykernel)",
   "language": "python",
   "name": "python3"
  },
  "language_info": {
   "codemirror_mode": {
    "name": "ipython",
    "version": 3
   },
   "file_extension": ".py",
   "mimetype": "text/x-python",
   "name": "python",
   "nbconvert_exporter": "python",
   "pygments_lexer": "ipython3",
   "version": "3.9.12"
  },
  "vscode": {
   "interpreter": {
    "hash": "e71547eb8e7a90a87d0183098d7ff6e840abf875b38f1fbd362b6ad19fe16c20"
   }
  }
 },
 "nbformat": 4,
 "nbformat_minor": 5
}

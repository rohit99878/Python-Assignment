{
 "cells": [
  {
   "cell_type": "markdown",
   "id": "5573bd80",
   "metadata": {},
   "source": [
    "1. How do you find the missing number in a given integer array of 1 to 100?"
   ]
  },
  {
   "cell_type": "code",
   "execution_count": 1,
   "id": "cfc9d016",
   "metadata": {},
   "outputs": [],
   "source": [
    "a = [1,2,3,4,5,6]"
   ]
  },
  {
   "cell_type": "code",
   "execution_count": 14,
   "id": "5e5cea8c",
   "metadata": {},
   "outputs": [],
   "source": [
    "\n",
    "class ListNode(object):\n",
    "    def _init_(self, x):\n",
    "        self.val = x\n",
    "        self.next = None"
   ]
  },
  {
   "cell_type": "code",
   "execution_count": 16,
   "id": "993fa561",
   "metadata": {},
   "outputs": [
    {
     "ename": "TypeError",
     "evalue": "ListNode() takes no arguments",
     "output_type": "error",
     "traceback": [
      "\u001b[1;31m---------------------------------------------------------------------------\u001b[0m",
      "\u001b[1;31mTypeError\u001b[0m                                 Traceback (most recent call last)",
      "Input \u001b[1;32mIn [16]\u001b[0m, in \u001b[0;36m<cell line: 1>\u001b[1;34m()\u001b[0m\n\u001b[1;32m----> 1\u001b[0m l \u001b[38;5;241m=\u001b[39m \u001b[43mListNode\u001b[49m\u001b[43m(\u001b[49m\u001b[38;5;241;43m10\u001b[39;49m\u001b[43m)\u001b[49m\n\u001b[0;32m      2\u001b[0m s \u001b[38;5;241m=\u001b[39m Solution()\n\u001b[0;32m      3\u001b[0m s\u001b[38;5;241m.\u001b[39mremoveElements(\u001b[38;5;241m1\u001b[39m,\u001b[38;5;241m10\u001b[39m)\n",
      "\u001b[1;31mTypeError\u001b[0m: ListNode() takes no arguments"
     ]
    }
   ],
   "source": [
    "l = ListNode(10)\n",
    "s = Solution()\n",
    "s.removeElements(1,10)"
   ]
  },
  {
   "cell_type": "code",
   "execution_count": null,
   "id": "736dad4a",
   "metadata": {},
   "outputs": [
    {
     "name": "stdout",
     "output_type": "stream",
     "text": [
      "<class 'set'>\n",
      "set()\n"
     ]
    }
   ],
   "source": [
    "a = set()\n",
    "print(type(a))\n",
    "a.add(10)\n",
    "a.pop()\n",
    "print(a)"
   ]
  },
  {
   "cell_type": "code",
   "execution_count": 2,
   "id": "32f23152",
   "metadata": {},
   "outputs": [
    {
     "name": "stdout",
     "output_type": "stream",
     "text": [
      "[10, 20, 30, 40, 50]\n"
     ]
    }
   ],
   "source": [
    "a = [10,20,30,40,50]\n",
    "b = [1,2,3,4]\n",
    "print(a)\n",
    "a.append(b)"
   ]
  },
  {
   "cell_type": "code",
   "execution_count": 3,
   "id": "ea3a3ea1",
   "metadata": {},
   "outputs": [
    {
     "data": {
      "text/plain": [
       "[10, 20, 30, 40, 50, [1, 2, 3, 4]]"
      ]
     },
     "execution_count": 3,
     "metadata": {},
     "output_type": "execute_result"
    }
   ],
   "source": [
    "a"
   ]
  },
  {
   "cell_type": "code",
   "execution_count": 4,
   "id": "f4f749ba",
   "metadata": {},
   "outputs": [
    {
     "name": "stdout",
     "output_type": "stream",
     "text": [
      "its not \n"
     ]
    }
   ],
   "source": [
    "a= input('en: ')\n",
    "if a == a[::-1]:\n",
    "    print(\"it is \")\n",
    "else:\n",
    "    print('its not ')"
   ]
  },
  {
   "cell_type": "code",
   "execution_count": 3,
   "id": "468aee41",
   "metadata": {},
   "outputs": [
    {
     "name": "stdout",
     "output_type": "stream",
     "text": [
      "(10, 20, 30, 10)\n"
     ]
    }
   ],
   "source": [
    "a = (10,20,30)\n",
    "a = a+(10,)\n",
    "print(a)"
   ]
  },
  {
   "cell_type": "code",
   "execution_count": 10,
   "id": "7e6dad63",
   "metadata": {},
   "outputs": [
    {
     "name": "stdout",
     "output_type": "stream",
     "text": [
      "[10, 20, 30, 40, [10, 20]]\n"
     ]
    }
   ],
   "source": [
    "a = [10,20,30,40]\n",
    "b = [10,20]\n",
    "a.insert(4,b)\n",
    "print(a)"
   ]
  },
  {
   "cell_type": "code",
   "execution_count": null,
   "id": "605ffa69",
   "metadata": {},
   "outputs": [],
   "source": []
  }
 ],
 "metadata": {
  "kernelspec": {
   "display_name": "Python 3 (ipykernel)",
   "language": "python",
   "name": "python3"
  },
  "language_info": {
   "codemirror_mode": {
    "name": "ipython",
    "version": 3
   },
   "file_extension": ".py",
   "mimetype": "text/x-python",
   "name": "python",
   "nbconvert_exporter": "python",
   "pygments_lexer": "ipython3",
   "version": "3.9.12"
  },
  "vscode": {
   "interpreter": {
    "hash": "e71547eb8e7a90a87d0183098d7ff6e840abf875b38f1fbd362b6ad19fe16c20"
   }
  }
 },
 "nbformat": 4,
 "nbformat_minor": 5
}

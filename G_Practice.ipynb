{
 "cells": [
  {
   "cell_type": "markdown",
   "id": "47c84e85",
   "metadata": {},
   "source": [
    "Write a Python Code to Check if a Number is Odd or Even."
   ]
  },
  {
   "cell_type": "code",
   "execution_count": 1,
   "id": "c10ed48e",
   "metadata": {},
   "outputs": [
    {
     "name": "stdout",
     "output_type": "stream",
     "text": [
      "Enter Number :10\n",
      "10 is even number\n"
     ]
    }
   ],
   "source": [
    "temp = int(input(\"Enter Number :\"))\n",
    "if temp%2 == 0:\n",
    "    print(temp,'is even number')\n",
    "else:\n",
    "    print(temp,'is odd number')"
   ]
  },
  {
   "cell_type": "code",
   "execution_count": null,
   "id": "0fe98da6",
   "metadata": {},
   "outputs": [],
   "source": []
  },
  {
   "cell_type": "markdown",
   "id": "ccd0fc4d",
   "metadata": {},
   "source": [
    "Write a Python code to find the maximum of two numbers."
   ]
  },
  {
   "cell_type": "code",
   "execution_count": 2,
   "id": "d0c26541",
   "metadata": {},
   "outputs": [
    {
     "name": "stdout",
     "output_type": "stream",
     "text": [
      "Enter Number:10\n",
      "Enter Number:20\n",
      "2nd number is greater\n"
     ]
    }
   ],
   "source": [
    "temp1 = int(input('Enter Number:'))\n",
    "temp2 = int(input('Enter Number:'))\n",
    "if temp1>temp2:\n",
    "    print('1st number is greater')\n",
    "else:\n",
    "    print('2nd number is greater')"
   ]
  },
  {
   "cell_type": "code",
   "execution_count": null,
   "id": "c44b67dc",
   "metadata": {},
   "outputs": [],
   "source": []
  },
  {
   "cell_type": "markdown",
   "id": "805606c3",
   "metadata": {},
   "source": [
    "Write a Python code to check prime numbers."
   ]
  },
  {
   "cell_type": "code",
   "execution_count": 7,
   "id": "17b64199",
   "metadata": {},
   "outputs": [
    {
     "name": "stdout",
     "output_type": "stream",
     "text": [
      "Enter Number :9\n",
      "9 is not prime number\n"
     ]
    }
   ],
   "source": [
    "temp1 = int(input('Enter Number :'))\n",
    "for i in range(2,temp1):\n",
    "    if temp1%i == 0:\n",
    "        print(temp1,'is not prime number')\n",
    "        break\n",
    "else:\n",
    "    print(temp1,'Is Prime number')"
   ]
  },
  {
   "cell_type": "code",
   "execution_count": null,
   "id": "3c0b2aa1",
   "metadata": {},
   "outputs": [],
   "source": []
  },
  {
   "cell_type": "markdown",
   "id": "07e2fce5",
   "metadata": {},
   "source": [
    "Write a Python factorial program without using if-else, for, and ternary operators."
   ]
  },
  {
   "cell_type": "code",
   "execution_count": 9,
   "id": "92a92726",
   "metadata": {},
   "outputs": [
    {
     "name": "stdout",
     "output_type": "stream",
     "text": [
      "Enter Number : 6\n",
      "The factorial of 6 is 720\n"
     ]
    }
   ],
   "source": [
    "def fact(num):\n",
    "\n",
    "    if num == 1:\n",
    "        return 1\n",
    "    else:\n",
    "        return (num * fact(num-1))\n",
    "\n",
    "num = int(input('Enter Number : '))\n",
    "result = fact(num)\n",
    "print(\"The factorial of\", num, \"is\", result)"
   ]
  },
  {
   "cell_type": "code",
   "execution_count": null,
   "id": "b3ece9b6",
   "metadata": {},
   "outputs": [],
   "source": []
  },
  {
   "cell_type": "markdown",
   "id": "9fe9ccd9",
   "metadata": {},
   "source": [
    "Write a Python code to calculate the square root of a given number."
   ]
  },
  {
   "cell_type": "code",
   "execution_count": 24,
   "id": "8ff50d6b",
   "metadata": {},
   "outputs": [
    {
     "name": "stdout",
     "output_type": "stream",
     "text": [
      "Enter Number : 144\n",
      "2.0\n"
     ]
    }
   ],
   "source": [
    "temp = int(input('Enter Number : '))\n",
    "root = 0\n",
    "root = temp / (temp / 2)\n",
    "print(root)"
   ]
  },
  {
   "cell_type": "code",
   "execution_count": 47,
   "id": "42e3a92e",
   "metadata": {},
   "outputs": [
    {
     "name": "stdout",
     "output_type": "stream",
     "text": [
      "12.0\n"
     ]
    }
   ],
   "source": [
    "import math\n",
    "temp1 = 144\n",
    "print(math.sqrt(temp1))"
   ]
  },
  {
   "cell_type": "code",
   "execution_count": null,
   "id": "89f71512",
   "metadata": {},
   "outputs": [],
   "source": []
  },
  {
   "cell_type": "markdown",
   "id": "f5a49103",
   "metadata": {},
   "source": [
    "Write a Python code to calculate the area of a triangle."
   ]
  },
  {
   "cell_type": "code",
   "execution_count": 48,
   "id": "ad7b64ff",
   "metadata": {},
   "outputs": [
    {
     "name": "stdout",
     "output_type": "stream",
     "text": [
      "100.0\n"
     ]
    }
   ],
   "source": [
    "base = 10\n",
    "height = 20\n",
    "\n",
    "area = 1/2 * base * height\n",
    "print(area)"
   ]
  },
  {
   "cell_type": "code",
   "execution_count": null,
   "id": "fdc16ab2",
   "metadata": {},
   "outputs": [],
   "source": []
  },
  {
   "cell_type": "markdown",
   "id": "e4d2793d",
   "metadata": {},
   "source": [
    "Write a Python code to check the armstrong number."
   ]
  },
  {
   "cell_type": "code",
   "execution_count": 63,
   "id": "e01de4b6",
   "metadata": {},
   "outputs": [
    {
     "name": "stdout",
     "output_type": "stream",
     "text": [
      "Enter Number : 370\n",
      "370\n"
     ]
    }
   ],
   "source": [
    "temp = int(input('Enter Number : '))\n",
    "temp1 = temp\n",
    "arm = 0\n",
    "while temp1 > 0:\n",
    "    dig = temp1 % 10\n",
    "    arm += dig*dig*dig\n",
    "    temp1 //= 10\n",
    "print(arm)"
   ]
  },
  {
   "cell_type": "code",
   "execution_count": 58,
   "id": "094329e0",
   "metadata": {},
   "outputs": [
    {
     "data": {
      "text/plain": [
       "343"
      ]
     },
     "execution_count": 58,
     "metadata": {},
     "output_type": "execute_result"
    }
   ],
   "source": []
  },
  {
   "cell_type": "markdown",
   "id": "44288fea",
   "metadata": {},
   "source": [
    "Write a Python code to display a multiplication table using for loop."
   ]
  },
  {
   "cell_type": "code",
   "execution_count": 64,
   "id": "a7986e91",
   "metadata": {},
   "outputs": [
    {
     "name": "stdout",
     "output_type": "stream",
     "text": [
      "Enter Number : 10\n",
      "10 * 1 = 10\n",
      "10 * 2 = 20\n",
      "10 * 3 = 30\n",
      "10 * 4 = 40\n",
      "10 * 5 = 50\n",
      "10 * 6 = 60\n",
      "10 * 7 = 70\n",
      "10 * 8 = 80\n",
      "10 * 9 = 90\n",
      "10 * 10 = 100\n"
     ]
    }
   ],
   "source": [
    "temp = int(input(\"Enter Number : \"))\n",
    "for i in range(1,11):\n",
    "    mul = temp*i\n",
    "    print(temp,'*',i,'=',mul)"
   ]
  },
  {
   "cell_type": "code",
   "execution_count": null,
   "id": "9b7fd8d0",
   "metadata": {},
   "outputs": [],
   "source": []
  },
  {
   "cell_type": "markdown",
   "id": "9937dc72",
   "metadata": {},
   "source": [
    "How to convert a list into a string?"
   ]
  },
  {
   "cell_type": "code",
   "execution_count": 67,
   "id": "314f5cd3",
   "metadata": {},
   "outputs": [
    {
     "name": "stdout",
     "output_type": "stream",
     "text": [
      "ROHIT\n"
     ]
    }
   ],
   "source": [
    "temp = ['R','O','H','I','T']\n",
    "str1 = ''\n",
    "for i in temp:\n",
    "    str1+=i\n",
    "print(str1)"
   ]
  },
  {
   "cell_type": "code",
   "execution_count": 71,
   "id": "15ddb669",
   "metadata": {},
   "outputs": [
    {
     "name": "stdout",
     "output_type": "stream",
     "text": [
      "ROHIT\n"
     ]
    }
   ],
   "source": [
    "temp = ['R','O','H','I','T']\n",
    "str1=''\n",
    "\n",
    "print(str1.join(temp))"
   ]
  },
  {
   "cell_type": "code",
   "execution_count": null,
   "id": "36ebec6c",
   "metadata": {},
   "outputs": [],
   "source": []
  },
  {
   "cell_type": "markdown",
   "id": "9171afd2",
   "metadata": {},
   "source": [
    "How to convert a list into a tuple?"
   ]
  },
  {
   "cell_type": "code",
   "execution_count": 72,
   "id": "34805523",
   "metadata": {},
   "outputs": [
    {
     "name": "stdout",
     "output_type": "stream",
     "text": [
      "('R', 'O', 'H', 'I', 'T')\n"
     ]
    }
   ],
   "source": [
    "temp = ['R','O','H','I','T']\n",
    "print(tuple(temp))"
   ]
  },
  {
   "cell_type": "code",
   "execution_count": null,
   "id": "2c6d0c80",
   "metadata": {},
   "outputs": [],
   "source": []
  },
  {
   "cell_type": "markdown",
   "id": "71749d21",
   "metadata": {},
   "source": [
    "How to convert a list into a set?"
   ]
  },
  {
   "cell_type": "code",
   "execution_count": 73,
   "id": "2a9766c1",
   "metadata": {},
   "outputs": [
    {
     "name": "stdout",
     "output_type": "stream",
     "text": [
      "{'O', 'R', 'I', 'H', 'T'}\n"
     ]
    }
   ],
   "source": [
    "temp = ['R','O','H','I','T']\n",
    "print(set(temp))"
   ]
  },
  {
   "cell_type": "code",
   "execution_count": null,
   "id": "a447af05",
   "metadata": {},
   "outputs": [],
   "source": []
  },
  {
   "cell_type": "markdown",
   "id": "53513e46",
   "metadata": {},
   "source": [
    "How to count the occurrences of a particular element in the list?"
   ]
  },
  {
   "cell_type": "code",
   "execution_count": 78,
   "id": "916ce81b",
   "metadata": {},
   "outputs": [
    {
     "data": {
      "text/plain": [
       "1    3\n",
       "2    3\n",
       "3    2\n",
       "4    2\n",
       "5    2\n",
       "dtype: int64"
      ]
     },
     "execution_count": 78,
     "metadata": {},
     "output_type": "execute_result"
    }
   ],
   "source": [
    "import pandas as pd\n",
    "temp = [1,1,3,2,3,2,1,4,2,5,4,5]\n",
    "df = pd.Series(temp)\n",
    "df.value_counts()"
   ]
  },
  {
   "cell_type": "code",
   "execution_count": 79,
   "id": "9ec73c6c",
   "metadata": {},
   "outputs": [
    {
     "name": "stdout",
     "output_type": "stream",
     "text": [
      "Enter number : 1\n",
      "Number: 1 Count 3\n"
     ]
    }
   ],
   "source": [
    "temp = [1,1,3,2,3,2,1,4,2,5,4,5]\n",
    "a = int(input('Enter number : '))\n",
    "count=0\n",
    "for i in temp:\n",
    "    if i == a:\n",
    "        count+=1\n",
    "print('Number:',a,'Count',count)"
   ]
  },
  {
   "cell_type": "code",
   "execution_count": 80,
   "id": "8dacba98",
   "metadata": {},
   "outputs": [
    {
     "name": "stdout",
     "output_type": "stream",
     "text": [
      "3\n"
     ]
    }
   ],
   "source": [
    "temp = [1,1,3,2,3,2,1,4,2,5,4,5]\n",
    "print(temp.count(1))"
   ]
  },
  {
   "cell_type": "code",
   "execution_count": 128,
   "id": "33a8feb0",
   "metadata": {},
   "outputs": [
    {
     "name": "stdout",
     "output_type": "stream",
     "text": [
      "1\n"
     ]
    }
   ],
   "source": [
    "a = [(1,)]\n",
    "print(a[0][0])"
   ]
  },
  {
   "cell_type": "code",
   "execution_count": 127,
   "id": "a52d61ac",
   "metadata": {},
   "outputs": [
    {
     "name": "stdout",
     "output_type": "stream",
     "text": [
      "3\n"
     ]
    }
   ],
   "source": [
    "a = [[1,3]]\n",
    "print(a[0][1])"
   ]
  },
  {
   "cell_type": "code",
   "execution_count": null,
   "id": "faf48178",
   "metadata": {},
   "outputs": [],
   "source": []
  },
  {
   "cell_type": "code",
   "execution_count": null,
   "id": "a393d928",
   "metadata": {},
   "outputs": [],
   "source": []
  },
  {
   "cell_type": "markdown",
   "id": "caa67c04",
   "metadata": {},
   "source": [
    "# ITERATOR, GENERATOR AND DECORATOR"
   ]
  },
  {
   "cell_type": "markdown",
   "id": "ccf794a4",
   "metadata": {},
   "source": [
    "### Iterator \n",
    "An iterator is an object that contains a countable number of values. An iterator is an object that can be iterated upon, meaning that you can traverse through all the values. Technically, in Python, an iterator is an object which implements the iterator protocol, which consist of the methods __iter__() and __next__() ."
   ]
  },
  {
   "cell_type": "code",
   "execution_count": 25,
   "id": "26ad7f6b",
   "metadata": {},
   "outputs": [
    {
     "name": "stdout",
     "output_type": "stream",
     "text": [
      "1\n",
      "2\n",
      "3\n",
      "4\n",
      "5\n"
     ]
    }
   ],
   "source": [
    "a = [1,2,3,4,5]\n",
    "\n",
    "it = iter(a)\n",
    "\n",
    "######################################################\n",
    "print(it.__next__()) # 1st method\n",
    "print(it.__next__())\n",
    "######################################################\n",
    "\n",
    "######################################################\n",
    "print(next(it))     # 2nd Method\n",
    "######################################################\n",
    "\n",
    "for i in it:\n",
    "    print(i)"
   ]
  },
  {
   "cell_type": "markdown",
   "id": "b2d88f1f",
   "metadata": {},
   "source": [
    "### Generator\n",
    "\n",
    "A generator-function is defined like a normal function, but whenever it needs to generate a value, it does so with the yield keyword rather than return. If the body of a def contains yield, the function automatically becomes a generator function. "
   ]
  },
  {
   "cell_type": "code",
   "execution_count": 2,
   "id": "0af22199",
   "metadata": {},
   "outputs": [
    {
     "name": "stdout",
     "output_type": "stream",
     "text": [
      "5\n",
      "6\n"
     ]
    }
   ],
   "source": [
    "def topten():\n",
    "    yield 5\n",
    "    yield 6\n",
    "values = topten()\n",
    "print(values.__next__())\n",
    "print(values.__next__())\n",
    "\n",
    "for i in values:\n",
    "    print(i)"
   ]
  },
  {
   "cell_type": "markdown",
   "id": "55eb3ca2",
   "metadata": {},
   "source": [
    "### Decorator\n",
    "\n",
    "are a very powerful and useful tool in Python since it allows programmers to modify the behaviour of a function or class. Decorators allow us to wrap another function in order to extend the behaviour of the wrapped function, without permanently modifying it. But before diving deep into decorators let us understand some concepts that will come in handy in learning the decorators."
   ]
  },
  {
   "cell_type": "code",
   "execution_count": 3,
   "id": "162aeaf8",
   "metadata": {},
   "outputs": [
    {
     "name": "stdout",
     "output_type": "stream",
     "text": [
      "2.0\n"
     ]
    }
   ],
   "source": [
    "def div(a,b):\n",
    "    print(a/b)\n",
    "\n",
    "def div_smart(fun):\n",
    "    \n",
    "    def inner(a,b):\n",
    "        if a<b:\n",
    "            a,b = b,a\n",
    "        return fun(a,b)\n",
    "    \n",
    "    return inner\n",
    "\n",
    "div1 = div_smart(div)\n",
    "div1(10,20)"
   ]
  },
  {
   "cell_type": "code",
   "execution_count": 4,
   "id": "a823735a",
   "metadata": {},
   "outputs": [
    {
     "name": "stdout",
     "output_type": "stream",
     "text": [
      "2.0\n"
     ]
    }
   ],
   "source": [
    "def div(a,b):\n",
    "    print(a/b)\n",
    "\n",
    "def smart_div(func):\n",
    "\n",
    "    def inner(a,b):\n",
    "\n",
    "        if a<b:\n",
    "            a,b = b,a\n",
    "        return func(a,b)\n",
    "\n",
    "    return inner\n",
    "\n",
    "div = smart_div(div)\n",
    "\n",
    "div(2,4)"
   ]
  },
  {
   "cell_type": "code",
   "execution_count": null,
   "id": "15b74755",
   "metadata": {},
   "outputs": [],
   "source": []
  },
  {
   "cell_type": "code",
   "execution_count": null,
   "id": "66742be8",
   "metadata": {},
   "outputs": [],
   "source": []
  },
  {
   "cell_type": "markdown",
   "id": "cd46274e",
   "metadata": {},
   "source": [
    "# LIST COMPREHENSION"
   ]
  },
  {
   "cell_type": "code",
   "execution_count": 28,
   "id": "752d04c9",
   "metadata": {},
   "outputs": [
    {
     "name": "stdout",
     "output_type": "stream",
     "text": [
      "[2, 4]\n"
     ]
    }
   ],
   "source": [
    "list1 = [1,2,3,4]\n",
    "list2 = [x for x in list1 if x%2 == 0]\n",
    "print(list2)"
   ]
  },
  {
   "cell_type": "code",
   "execution_count": null,
   "id": "7811d932",
   "metadata": {},
   "outputs": [],
   "source": []
  },
  {
   "cell_type": "code",
   "execution_count": null,
   "id": "8d4f1b75",
   "metadata": {},
   "outputs": [],
   "source": []
  },
  {
   "cell_type": "markdown",
   "id": "9a675f58",
   "metadata": {},
   "source": [
    "# LAMBDA KEYWORD"
   ]
  },
  {
   "cell_type": "code",
   "execution_count": 6,
   "id": "3c53ade5",
   "metadata": {},
   "outputs": [
    {
     "name": "stdout",
     "output_type": "stream",
     "text": [
      "100\n"
     ]
    }
   ],
   "source": [
    "lmb = lambda a,b : a*b\n",
    "print(lmb(10,10))"
   ]
  },
  {
   "cell_type": "code",
   "execution_count": 7,
   "id": "3bf30aae",
   "metadata": {},
   "outputs": [
    {
     "name": "stdout",
     "output_type": "stream",
     "text": [
      "[1, 2, 3, 4, 5]\n"
     ]
    }
   ],
   "source": [
    "b = [1,2,3,4,5]\n",
    "a = [x for x in b]\n",
    "print(a)"
   ]
  },
  {
   "cell_type": "code",
   "execution_count": null,
   "id": "c8fc42f3",
   "metadata": {},
   "outputs": [],
   "source": []
  }
 ],
 "metadata": {
  "kernelspec": {
   "display_name": "Python 3 (ipykernel)",
   "language": "python",
   "name": "python3"
  },
  "language_info": {
   "codemirror_mode": {
    "name": "ipython",
    "version": 3
   },
   "file_extension": ".py",
   "mimetype": "text/x-python",
   "name": "python",
   "nbconvert_exporter": "python",
   "pygments_lexer": "ipython3",
   "version": "3.9.12"
  }
 },
 "nbformat": 4,
 "nbformat_minor": 5
}

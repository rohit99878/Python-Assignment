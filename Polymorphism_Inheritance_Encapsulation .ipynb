{
 "cells": [
  {
   "cell_type": "markdown",
   "id": "14b0a957",
   "metadata": {},
   "source": [
    "### Encapsulation"
   ]
  },
  {
   "cell_type": "code",
   "execution_count": 39,
   "id": "1bea1d75",
   "metadata": {
    "scrolled": true
   },
   "outputs": [
    {
     "name": "stdout",
     "output_type": "stream",
     "text": [
      "100\n",
      "10\n"
     ]
    }
   ],
   "source": [
    "class Base:\n",
    "    def __init__(self):\n",
    "        \n",
    "        self.__temp = '100'\n",
    "\n",
    "    def set_temp(self,a):\n",
    "        self.__temp = a\n",
    "    \n",
    "    def get_temp(self):\n",
    "        return self.__temp\n",
    "    \n",
    "b = Base()\n",
    "print(b.get_temp())\n",
    "b.set_temp(10)\n",
    "print(b.get_temp())"
   ]
  },
  {
   "cell_type": "markdown",
   "id": "64498c4c",
   "metadata": {},
   "source": [
    "### Inheritance"
   ]
  },
  {
   "cell_type": "code",
   "execution_count": 60,
   "id": "6ccecbac",
   "metadata": {},
   "outputs": [
    {
     "name": "stdout",
     "output_type": "stream",
     "text": [
      "80\n"
     ]
    }
   ],
   "source": [
    "class Parent:\n",
    "    def __init__(self,a):\n",
    "        self.temp = a\n",
    "    def print(self):\n",
    "        print(self.temp)\n",
    "\n",
    "class Child(Parent):\n",
    "    def print(self):\n",
    "        print(\"Child\")\n",
    "        \n",
    "\n",
    "c = Child(70)\n",
    "p.print()"
   ]
  },
  {
   "cell_type": "code",
   "execution_count": 63,
   "id": "14d4057d",
   "metadata": {},
   "outputs": [
    {
     "name": "stdout",
     "output_type": "stream",
     "text": [
      "x\n"
     ]
    }
   ],
   "source": [
    "class xyz:\n",
    "    def print(self):\n",
    "        print(\"x\")\n",
    "class yz(xyz):\n",
    "    pass\n",
    "\n",
    "class z(yz):\n",
    "    pass\n",
    "z = z()\n",
    "z.print()"
   ]
  },
  {
   "cell_type": "markdown",
   "id": "e2a14b92",
   "metadata": {},
   "source": [
    "### Polymorphisom"
   ]
  },
  {
   "cell_type": "code",
   "execution_count": 4,
   "id": "2574e361",
   "metadata": {},
   "outputs": [
    {
     "name": "stdout",
     "output_type": "stream",
     "text": [
      "Parent\n",
      "Child\n"
     ]
    }
   ],
   "source": [
    "class Parent:\n",
    "    def print(self):\n",
    "        print('Parent')\n",
    "class Child(Parent):\n",
    "    def print(self):\n",
    "        print('Child')\n",
    "\n",
    "p = Parent()\n",
    "p.print()\n",
    "p = Child()\n",
    "p.print()"
   ]
  },
  {
   "cell_type": "code",
   "execution_count": 33,
   "id": "ad47e4d1",
   "metadata": {},
   "outputs": [],
   "source": [
    "class Sum:\n",
    "    def add(self,a,b):\n",
    "        print(a+b)\n",
    "    def add(self,a,b,c = 0):\n",
    "        print(a+b+c)"
   ]
  },
  {
   "cell_type": "code",
   "execution_count": 35,
   "id": "72f63a2e",
   "metadata": {},
   "outputs": [
    {
     "name": "stdout",
     "output_type": "stream",
     "text": [
      "60\n"
     ]
    }
   ],
   "source": [
    "s = Sum()\n",
    "s.add(10,20,30)"
   ]
  },
  {
   "cell_type": "code",
   "execution_count": 20,
   "id": "6cd8da86",
   "metadata": {},
   "outputs": [
    {
     "name": "stdout",
     "output_type": "stream",
     "text": [
      "30\n"
     ]
    }
   ],
   "source": [
    "a = 10\n",
    "b = 20 \n",
    "print(a+b)"
   ]
  },
  {
   "cell_type": "code",
   "execution_count": null,
   "id": "eaae1890",
   "metadata": {},
   "outputs": [],
   "source": []
  }
 ],
 "metadata": {
  "kernelspec": {
   "display_name": "Python 3 (ipykernel)",
   "language": "python",
   "name": "python3"
  },
  "language_info": {
   "codemirror_mode": {
    "name": "ipython",
    "version": 3
   },
   "file_extension": ".py",
   "mimetype": "text/x-python",
   "name": "python",
   "nbconvert_exporter": "python",
   "pygments_lexer": "ipython3",
   "version": "3.9.12"
  }
 },
 "nbformat": 4,
 "nbformat_minor": 5
}

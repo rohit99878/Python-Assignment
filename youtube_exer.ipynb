{
 "cells": [
  {
   "cell_type": "code",
   "execution_count": 5,
   "id": "b3957073",
   "metadata": {},
   "outputs": [
    {
     "name": "stdout",
     "output_type": "stream",
     "text": [
      "2002,2009,2016,2023,2037,2044,2051,2058,2072,2079,2086,2093,2107,2114,2121,2128,2142,2149,2156,2163,2177,2184,2191,2198,2212,2219,2226,2233,2247,2254,2261,2268,2282,2289,2296,2303,2317,2324,2331,2338,2352,2359,2366,2373,2387,2394,2401,2408,2422,2429,2436,2443,2457,2464,2471,2478,2492,2499,2506,2513,2527,2534,2541,2548,2562,2569,2576,2583,2597,2604,2611,2618,2632,2639,2646,2653,2667,2674,2681,2688,2702,2709,2716,2723,2737,2744,2751,2758,2772,2779,2786,2793,2807,2814,2821,2828,2842,2849,2856,2863,2877,2884,2891,2898,2912,2919,2926,2933,2947,2954,2961,2968,2982,2989,2996\n"
     ]
    }
   ],
   "source": [
    "list=[]\n",
    "\n",
    "for i in range(2000,3001):\n",
    "    if i%7==0 and i%5!=0:\n",
    "        list.append(str(i))\n",
    "\"print(list)\"\n",
    "print(','.join(list))"
   ]
  },
  {
   "cell_type": "code",
   "execution_count": 7,
   "id": "4fc7a499",
   "metadata": {},
   "outputs": [
    {
     "name": "stdout",
     "output_type": "stream",
     "text": [
      "40320\n"
     ]
    }
   ],
   "source": [
    "a=8\n",
    "temp=1\n",
    "for i in range(1,a+1):\n",
    "    temp*=i\n",
    "print(temp)"
   ]
  },
  {
   "cell_type": "markdown",
   "id": "60c8a59b",
   "metadata": {},
   "source": [
    "### 1. Write a Python Program to print Prime Numbers between 2 numbers"
   ]
  },
  {
   "cell_type": "code",
   "execution_count": 8,
   "id": "f2a03eb2",
   "metadata": {},
   "outputs": [
    {
     "name": "stdout",
     "output_type": "stream",
     "text": [
      "101\n",
      "103\n",
      "107\n",
      "109\n",
      "113\n",
      "127\n",
      "131\n",
      "137\n",
      "139\n",
      "149\n",
      "151\n",
      "157\n",
      "163\n",
      "167\n",
      "173\n",
      "179\n",
      "181\n",
      "191\n",
      "193\n",
      "197\n",
      "199\n"
     ]
    }
   ],
   "source": [
    "a = 100\n",
    "for i in range(a,200):\n",
    "    for j in range(2,i):\n",
    "        if i%j == 0:\n",
    "            break\n",
    "    else:\n",
    "        print(i)\n",
    "       "
   ]
  },
  {
   "cell_type": "markdown",
   "id": "70d5ffe7",
   "metadata": {},
   "source": [
    "### 2.Write a Sort function to sort the elements in a list"
   ]
  },
  {
   "cell_type": "code",
   "execution_count": 11,
   "id": "8dfaa542",
   "metadata": {},
   "outputs": [
    {
     "name": "stdout",
     "output_type": "stream",
     "text": [
      "[10, 20, 30, 40, 50]\n"
     ]
    }
   ],
   "source": [
    "def fun(a):\n",
    "    a.sort()\n",
    "    print(a)\n",
    "a = [20,10,40,50,30]\n",
    "fun(a)"
   ]
  },
  {
   "cell_type": "code",
   "execution_count": 14,
   "id": "a9094ae8",
   "metadata": {},
   "outputs": [
    {
     "name": "stdout",
     "output_type": "stream",
     "text": [
      "[10, 20, 30, 40, 50]\n"
     ]
    }
   ],
   "source": [
    "a = [20,10,40,50,30]\n",
    "a.sort(reverse = False)\n",
    "print(a)"
   ]
  },
  {
   "cell_type": "markdown",
   "id": "606ad00a",
   "metadata": {},
   "source": [
    "### 3. Write a sorting function without using the list.sort function"
   ]
  },
  {
   "cell_type": "code",
   "execution_count": 5,
   "id": "0c1f84d4",
   "metadata": {},
   "outputs": [
    {
     "name": "stdout",
     "output_type": "stream",
     "text": [
      "[10, 20, 30, 40, 50]\n"
     ]
    }
   ],
   "source": [
    "def fun(a):\n",
    "    for i in range(len(a)):\n",
    "        for j in range(i+1,len(a)):\n",
    "            if a[i]>a[j]:\n",
    "                a[i],a[j] = a[j],a[i]\n",
    "    print(a)\n",
    "            \n",
    "a = [20,10,40,50,30]\n",
    "b = []\n",
    "fun(a)"
   ]
  },
  {
   "cell_type": "markdown",
   "id": "7bd28207",
   "metadata": {},
   "source": [
    "### 4. Write a Python program to print Fibonacci Series"
   ]
  },
  {
   "cell_type": "code",
   "execution_count": 46,
   "id": "cdeafd49",
   "metadata": {},
   "outputs": [
    {
     "name": "stdout",
     "output_type": "stream",
     "text": [
      "0\n",
      "1\n",
      "1\n",
      "2\n",
      "3\n"
     ]
    }
   ],
   "source": [
    "a , b= 0,1\n",
    "count = 0\n",
    "while count<5:   \n",
    "    print(a)\n",
    "    c = a+b\n",
    "    a = b\n",
    "    b = c\n",
    "    count+=1"
   ]
  },
  {
   "cell_type": "markdown",
   "id": "14a53df3",
   "metadata": {},
   "source": [
    "### 5. Write a Python program to print a list in reverse"
   ]
  },
  {
   "cell_type": "code",
   "execution_count": 10,
   "id": "04186ec9",
   "metadata": {},
   "outputs": [
    {
     "name": "stdout",
     "output_type": "stream",
     "text": [
      "[50, 40, 30, 20, 10]\n"
     ]
    }
   ],
   "source": [
    "a = [10,20,30,40,50]\n",
    "\n",
    "print(a[::-1])"
   ]
  },
  {
   "cell_type": "markdown",
   "id": "5990a9cb",
   "metadata": {},
   "source": [
    "### 6. Write a Python program to check whether a string is a Palindrome or not"
   ]
  },
  {
   "cell_type": "code",
   "execution_count": 20,
   "id": "442aad98",
   "metadata": {},
   "outputs": [
    {
     "name": "stdout",
     "output_type": "stream",
     "text": [
      "Enter a stringRohit\n",
      "Rohit is not palindrome\n"
     ]
    }
   ],
   "source": [
    "a = input(\"Enter a string : \")\n",
    "b = a\n",
    "result = ''\n",
    "for i in range(len(a)-1,-1,-1):\n",
    "    result += a[i]\n",
    "if a == result:\n",
    "    print(a, \"is palindrome\")\n",
    "else:\n",
    "    print(a, \"is not palindrome\")"
   ]
  },
  {
   "cell_type": "code",
   "execution_count": 26,
   "id": "d4b82f79",
   "metadata": {},
   "outputs": [
    {
     "name": "stdout",
     "output_type": "stream",
     "text": [
      "enter a string : kanak\n",
      "kanak is palindrome\n"
     ]
    }
   ],
   "source": [
    "a = input('enter a string : ')\n",
    "res = ''.join(reversed(a))\n",
    "if a == res:\n",
    "    print(a, \"is palindrome\")\n",
    "else:\n",
    "    print(a, \"is not palindrome\")"
   ]
  },
  {
   "cell_type": "markdown",
   "id": "9356939e",
   "metadata": {},
   "source": [
    "### 7. Write a Python program to print set of duplicates in a list"
   ]
  },
  {
   "cell_type": "code",
   "execution_count": 45,
   "id": "1aa6697d",
   "metadata": {},
   "outputs": [
    {
     "name": "stdout",
     "output_type": "stream",
     "text": [
      "[11, 2, 3, 4]\n"
     ]
    }
   ],
   "source": [
    "list=[11,2,3,4,4,11,4]\n",
    "list2=[]\n",
    "for i in list:\n",
    "    if i not in list2:\n",
    "        list2.append(i)\n",
    "print(list2)"
   ]
  },
  {
   "cell_type": "code",
   "execution_count": 4,
   "id": "7b886125",
   "metadata": {},
   "outputs": [
    {
     "name": "stdout",
     "output_type": "stream",
     "text": [
      "{40, 10}\n"
     ]
    }
   ],
   "source": [
    "a = [10,10,20,30,40,40]\n",
    "print(set([i for i in a if a.count(i) > 1]))"
   ]
  },
  {
   "cell_type": "markdown",
   "id": "100812bb",
   "metadata": {},
   "source": [
    "### 8. Write a Python program to print number of words in a given sentence"
   ]
  },
  {
   "cell_type": "code",
   "execution_count": 7,
   "id": "414d1c89",
   "metadata": {},
   "outputs": [
    {
     "name": "stdout",
     "output_type": "stream",
     "text": [
      "5\n"
     ]
    }
   ],
   "source": [
    "a = \"hey i am learning python\"\n",
    "b = a.split(' ')\n",
    "count = 0\n",
    "for i in b:\n",
    "    count+=1\n",
    "print(count)"
   ]
  },
  {
   "cell_type": "code",
   "execution_count": 8,
   "id": "06abf504",
   "metadata": {},
   "outputs": [
    {
     "name": "stdout",
     "output_type": "stream",
     "text": [
      "5\n"
     ]
    }
   ],
   "source": [
    "a = \"hey i am learning python\"\n",
    "print(len(a.split(' ')))"
   ]
  },
  {
   "cell_type": "markdown",
   "id": "b942863c",
   "metadata": {},
   "source": [
    "### 9. Given an array arr[] of n elements, write a Python function to search a given element x in arr[]."
   ]
  },
  {
   "cell_type": "code",
   "execution_count": 15,
   "id": "30df1c25",
   "metadata": {},
   "outputs": [
    {
     "name": "stdout",
     "output_type": "stream",
     "text": [
      "Enter element for search : 20\n",
      "1\n"
     ]
    }
   ],
   "source": [
    "def fun(b,a):\n",
    "    for i in range(len(b)):\n",
    "        if b[i] == a:\n",
    "            print(i)\n",
    "\n",
    "a = int(input(\"Enter element for search : \"))\n",
    "b = [10,20,30,40,50]\n",
    "fun(b,a)"
   ]
  },
  {
   "cell_type": "markdown",
   "id": "5bbb4bfd",
   "metadata": {},
   "source": [
    "### 10. Write a Python program to implement a Binary Search"
   ]
  },
  {
   "cell_type": "markdown",
   "id": "6f876ee3",
   "metadata": {},
   "source": [
    "### 1. Write a Python program find a list of integers with exactly two occurrences of nineteen and at least three occurrences of five."
   ]
  },
  {
   "cell_type": "code",
   "execution_count": 1,
   "id": "0ad50f1e",
   "metadata": {},
   "outputs": [
    {
     "name": "stdout",
     "output_type": "stream",
     "text": [
      "Enter element : 5\n",
      "Enter element : 5\n",
      "Enter element : 5\n",
      "Enter element : 19\n",
      "Enter element : 19\n",
      "Enter element :  \n",
      "['5', '5', '5', '19', '19']\n"
     ]
    }
   ],
   "source": [
    "a = []\n",
    "count = 0\n",
    "count1 = 0\n",
    "while True:\n",
    "    b = input(\"Enter element : \")\n",
    "    if b != ' ':\n",
    "        a.append(b)\n",
    "    else:\n",
    "        break\n",
    "\n",
    "for i in range(len(a)):\n",
    "    if a[i] == '19':\n",
    "        count += 1\n",
    "    if a[i] == '5':\n",
    "        count1 += 1\n",
    "        \n",
    "if count == 2 and count1 <= 3:\n",
    "        print(a)"
   ]
  },
  {
   "cell_type": "markdown",
   "id": "af7816d0",
   "metadata": {},
   "source": [
    "### 2. Write a Python program that accept a list of integers and check the length and the fifth element. Return true if the length of the list is 8 and fifth element occurs thrice in the said list. "
   ]
  },
  {
   "cell_type": "code",
   "execution_count": 4,
   "id": "119a5289",
   "metadata": {},
   "outputs": [
    {
     "name": "stdout",
     "output_type": "stream",
     "text": [
      "Number : 1\n",
      "Number : 2\n",
      "Number : 3\n",
      "Number : 4\n",
      "Number : 5\n",
      "Number : 5\n",
      "Number : 5\n",
      "Number : 7\n",
      "Number :  \n",
      "['1', '2', '3', '4', '5', '5', '5', '7']\n"
     ]
    }
   ],
   "source": [
    "a = []\n",
    "count = 0\n",
    "while True:\n",
    "    b = input(\"Number : \")\n",
    "    if b != \" \":\n",
    "        a.append(b)\n",
    "    else:\n",
    "        break\n",
    "c = len(a)\n",
    "if c == 8:\n",
    "    for i in range(len(a)):\n",
    "        if a[i] == a[4]:\n",
    "            count += 1\n",
    "    if count == 3:\n",
    "        print(a)"
   ]
  },
  {
   "cell_type": "markdown",
   "id": "b1361469",
   "metadata": {},
   "source": [
    "### 3. Write a Python program to split a string of words separated by commas and spaces into two lists, words and separators. Input: The dance, held in the school gym, ended at midnight."
   ]
  },
  {
   "cell_type": "code",
   "execution_count": 21,
   "id": "b19c8138",
   "metadata": {},
   "outputs": [
    {
     "name": "stdout",
     "output_type": "stream",
     "text": [
      "['The', 'dance,', 'held', 'in', 'the', 'school', 'gym,', 'ended', 'at', 'midnight.', ['', '', '', '', '', '', '', '', '', '']]\n"
     ]
    }
   ],
   "source": [
    "c = []\n",
    "d = []\n",
    "a = 'The dance, held in the school gym, ended at midnight.'\n",
    "b = a.split(' ')\n",
    "for i in b:\n",
    "    c.append(i)\n",
    "    d.append('',)\n",
    "c.append(d)\n",
    "print(c)"
   ]
  },
  {
   "cell_type": "markdown",
   "id": "33ea3e93",
   "metadata": {},
   "source": [
    "### 4. Write a Python program to find missing numbers from a list"
   ]
  },
  {
   "cell_type": "code",
   "execution_count": 26,
   "id": "3c20d172",
   "metadata": {},
   "outputs": [
    {
     "name": "stdout",
     "output_type": "stream",
     "text": [
      "[5, 8, 9]\n"
     ]
    }
   ],
   "source": [
    "b = []\n",
    "a = [1,2,3,4,6,7,10]\n",
    "for i in range(1,a[6]+1):\n",
    "    if i not in a:\n",
    "        b.append(i)\n",
    "print(b)"
   ]
  },
  {
   "cell_type": "markdown",
   "id": "4e8863e3",
   "metadata": {},
   "source": [
    "### 5. Write a Python program to push all zeros to the end of a list. "
   ]
  },
  {
   "cell_type": "code",
   "execution_count": 28,
   "id": "cfadaf9e",
   "metadata": {},
   "outputs": [
    {
     "name": "stdout",
     "output_type": "stream",
     "text": [
      "[2, 3, 4, 6, 7, 10, 0, 0]\n"
     ]
    }
   ],
   "source": [
    "a = [0,2,3,4,0,6,7,10]\n",
    "for i in a:\n",
    "    if i == 0:\n",
    "        a.remove(i)\n",
    "        a.append(i)\n",
    "print(a)"
   ]
  },
  {
   "cell_type": "markdown",
   "id": "3f612afe",
   "metadata": {},
   "source": [
    "### Encapsulation\n",
    "\n",
    "Encapsulation\n",
    "Using OOP in Python, we can restrict access to methods and variables. This prevents data from direct modification which is called encapsulation. In Python, we denote private attributes using underscore as the prefix i.e single _ or double __."
   ]
  },
  {
   "cell_type": "code",
   "execution_count": 45,
   "id": "1e69b709",
   "metadata": {},
   "outputs": [
    {
     "name": "stdout",
     "output_type": "stream",
     "text": [
      "Rohit 20\n",
      "Rohit 20\n"
     ]
    }
   ],
   "source": [
    "class student:\n",
    "    name = \"Rohit\"\n",
    "    rollno = 20\n",
    "    \n",
    "    def print(self):\n",
    "        print(self.name,self.rollno)\n",
    "    def value(self):\n",
    "        self.name = \"Roh\"\n",
    "        self.name = 30\n",
    "\n",
    "s1 = student()\n",
    "s1.print()\n",
    "s1.print()\n",
    "    "
   ]
  },
  {
   "cell_type": "markdown",
   "id": "4c9e381d",
   "metadata": {},
   "source": [
    "### Inheritance\n",
    "Inheritance is a way of creating a new class for using details of an existing class without modifying it. The newly formed class is a derived class (or child class). Similarly, the existing class is a base class (or parent class)."
   ]
  },
  {
   "cell_type": "code",
   "execution_count": 46,
   "id": "e3c87996",
   "metadata": {},
   "outputs": [
    {
     "name": "stdout",
     "output_type": "stream",
     "text": [
      "Rohit\n",
      "20\n",
      "40\n",
      "R\n",
      "40\n",
      "50\n"
     ]
    }
   ],
   "source": [
    "class Student():\n",
    "    def __init__(self,name,rollno,marks): #1st argument self is mandatory to wright in each class method.\n",
    "        self.name = name\n",
    "        self.rollno = rollno\n",
    "        self.marks = marks\n",
    "    \n",
    "    def display(self):\n",
    "        print(self.name)\n",
    "        print(self.rollno) #self.var is mandatory to write for accsscing class object. \n",
    "        print(self.marks)\n",
    "\n",
    "s1 = Student(\"Rohit\",20,40)\n",
    "s1.display()\n",
    "\n",
    "s2 = Student(\"R\",40,50)\n",
    "s2.display()\n",
    "\n"
   ]
  },
  {
   "cell_type": "code",
   "execution_count": 54,
   "id": "8660ef04",
   "metadata": {},
   "outputs": [],
   "source": [
    "class address(Student):\n",
    "    def __init__ (self,name,rollno,marks,address)\n",
    "    super."
   ]
  },
  {
   "cell_type": "code",
   "execution_count": 56,
   "id": "2ce41150",
   "metadata": {},
   "outputs": [
    {
     "name": "stdout",
     "output_type": "stream",
     "text": [
      "Rohit\n",
      "20\n",
      "40\n"
     ]
    }
   ],
   "source": [
    "r1 = address(\"Rohit\",20,40) #need to give all argument of parent class.\n",
    "r1.display()"
   ]
  },
  {
   "cell_type": "code",
   "execution_count": 57,
   "id": "d9233076",
   "metadata": {},
   "outputs": [
    {
     "name": "stdout",
     "output_type": "stream",
     "text": [
      "Pass\n"
     ]
    }
   ],
   "source": [
    "r1.display1()"
   ]
  },
  {
   "cell_type": "markdown",
   "id": "a6cfa1a1",
   "metadata": {},
   "source": [
    "### Reverse Number in pyhton"
   ]
  },
  {
   "cell_type": "code",
   "execution_count": 1,
   "id": "135b174e",
   "metadata": {},
   "outputs": [
    {
     "name": "stdout",
     "output_type": "stream",
     "text": [
      "54321\n"
     ]
    }
   ],
   "source": [
    "a = 12345\n",
    "rev = 0\n",
    "while a>0:\n",
    "    digit = a%10\n",
    "    rev = (rev*10)+digit\n",
    "    a = a//10\n",
    "print(rev)"
   ]
  },
  {
   "cell_type": "code",
   "execution_count": 7,
   "id": "70b19b93",
   "metadata": {},
   "outputs": [],
   "source": [
    "temp = [1,2,3,4,5]\n",
    "temp2 = [x for x in [1,32,3]]"
   ]
  },
  {
   "cell_type": "code",
   "execution_count": 8,
   "id": "0b04f7bc",
   "metadata": {},
   "outputs": [
    {
     "data": {
      "text/plain": [
       "[1, 32, 3]"
      ]
     },
     "execution_count": 8,
     "metadata": {},
     "output_type": "execute_result"
    }
   ],
   "source": [
    "temp2"
   ]
  },
  {
   "cell_type": "code",
   "execution_count": 15,
   "id": "c956b220",
   "metadata": {},
   "outputs": [
    {
     "name": "stdout",
     "output_type": "stream",
     "text": [
      "1\n",
      "2\n"
     ]
    }
   ],
   "source": [
    "temp = [1,2,3,4,5]\n",
    "it = iter(temp)\n",
    "print(next(it))\n",
    "print(next(it))"
   ]
  },
  {
   "cell_type": "code",
   "execution_count": 18,
   "id": "16050b48",
   "metadata": {},
   "outputs": [
    {
     "name": "stdout",
     "output_type": "stream",
     "text": [
      "5\n",
      "6\n"
     ]
    },
    {
     "ename": "StopIteration",
     "evalue": "",
     "output_type": "error",
     "traceback": [
      "\u001b[1;31m---------------------------------------------------------------------------\u001b[0m",
      "\u001b[1;31mStopIteration\u001b[0m                             Traceback (most recent call last)",
      "Input \u001b[1;32mIn [18]\u001b[0m, in \u001b[0;36m<cell line: 7>\u001b[1;34m()\u001b[0m\n\u001b[0;32m      5\u001b[0m \u001b[38;5;28mprint\u001b[39m(\u001b[38;5;28mnext\u001b[39m(d))\n\u001b[0;32m      6\u001b[0m \u001b[38;5;28mprint\u001b[39m(\u001b[38;5;28mnext\u001b[39m(d))\n\u001b[1;32m----> 7\u001b[0m \u001b[38;5;28mprint\u001b[39m(\u001b[38;5;28;43mnext\u001b[39;49m\u001b[43m(\u001b[49m\u001b[43md\u001b[49m\u001b[43m)\u001b[49m)\n",
      "\u001b[1;31mStopIteration\u001b[0m: "
     ]
    }
   ],
   "source": [
    "def decorators():\n",
    "    yield 5\n",
    "    yield 6\n",
    "d = decorators()\n",
    "print(next(d))\n",
    "print(next(d))\n",
    "print(next(d))"
   ]
  },
  {
   "cell_type": "code",
   "execution_count": 27,
   "id": "fd892a43",
   "metadata": {},
   "outputs": [
    {
     "name": "stdout",
     "output_type": "stream",
     "text": [
      "60\n"
     ]
    }
   ],
   "source": [
    "\n",
    "\n",
    "def fun(*args):\n",
    "    sum = 0\n",
    "    for i in args:\n",
    "        sum += i\n",
    "    print(sum)\n",
    "    \n",
    "fun(10,10,10,10,10,10)"
   ]
  },
  {
   "cell_type": "code",
   "execution_count": 33,
   "id": "c4320e31",
   "metadata": {},
   "outputs": [
    {
     "name": "stdout",
     "output_type": "stream",
     "text": [
      "{'name': 'Rohit', 'id': 1}\n"
     ]
    }
   ],
   "source": [
    "def fun(**args):\n",
    "    print(args)\n",
    "fun(name = 'Rohit',id = 1)"
   ]
  },
  {
   "cell_type": "code",
   "execution_count": 10,
   "id": "b2bb386d",
   "metadata": {},
   "outputs": [],
   "source": [
    "class Encapsulation:\n",
    "    def __init__(self,name,id):\n",
    "        self.name = name\n",
    "        self.id = id\n",
    "    def __getname__(self):\n",
    "        print(self.name,'id :',self.id)\n",
    "e = Encapsulation('Rohit',1)"
   ]
  },
  {
   "cell_type": "code",
   "execution_count": 11,
   "id": "6b22ac96",
   "metadata": {},
   "outputs": [
    {
     "name": "stdout",
     "output_type": "stream",
     "text": [
      "Rohit id : 1\n"
     ]
    }
   ],
   "source": [
    "e.__getname__()"
   ]
  },
  {
   "cell_type": "code",
   "execution_count": 31,
   "id": "57b7d068",
   "metadata": {},
   "outputs": [
    {
     "name": "stdout",
     "output_type": "stream",
     "text": [
      "Enter Number : 9\n"
     ]
    },
    {
     "ename": "KeyboardInterrupt",
     "evalue": "",
     "output_type": "error",
     "traceback": [
      "\u001b[1;31m---------------------------------------------------------------------------\u001b[0m",
      "\u001b[1;31mKeyboardInterrupt\u001b[0m                         Traceback (most recent call last)",
      "Input \u001b[1;32mIn [31]\u001b[0m, in \u001b[0;36m<cell line: 4>\u001b[1;34m()\u001b[0m\n\u001b[0;32m      4\u001b[0m \u001b[38;5;28;01mwhile\u001b[39;00m b \u001b[38;5;241m>\u001b[39m \u001b[38;5;241m0\u001b[39m:\n\u001b[0;32m      5\u001b[0m     b \u001b[38;5;241m=\u001b[39m a \u001b[38;5;241m%\u001b[39m \u001b[38;5;241m2\u001b[39m\n\u001b[1;32m----> 6\u001b[0m     bin1 \u001b[38;5;241m+\u001b[39m\u001b[38;5;241m=\u001b[39m (bin1 \u001b[38;5;241m*\u001b[39m \u001b[38;5;241m10\u001b[39m) \u001b[38;5;241m+\u001b[39m b\n\u001b[0;32m      7\u001b[0m     a \u001b[38;5;241m=\u001b[39m a \u001b[38;5;241m%\u001b[39m \u001b[38;5;241m2\u001b[39m\n\u001b[0;32m      8\u001b[0m \u001b[38;5;28mprint\u001b[39m(bin1)\n",
      "\u001b[1;31mKeyboardInterrupt\u001b[0m: "
     ]
    }
   ],
   "source": [
    "a = int(input(\"Enter Number : \"))\n",
    "b = a\n",
    "bin1 = 0\n",
    "while b > 0:\n",
    "    b = a % 2\n",
    "    bin1 += (bin1 * 10) + b\n",
    "    a = a % 2\n",
    "print(bin1)"
   ]
  },
  {
   "cell_type": "code",
   "execution_count": 46,
   "id": "a593030b",
   "metadata": {},
   "outputs": [
    {
     "name": "stdout",
     "output_type": "stream",
     "text": [
      "['A', 'm', 'a', 'r']\n",
      "Amar\n"
     ]
    }
   ],
   "source": [
    "a = 'Amar'\n",
    "b = []\n",
    "c = ''\n",
    "for i in a:\n",
    "    b.append(i)\n",
    "print(b)\n",
    "for i in b:\n",
    "    c += i\n",
    "print(c)"
   ]
  },
  {
   "cell_type": "code",
   "execution_count": 2,
   "id": "b453f2b4",
   "metadata": {},
   "outputs": [],
   "source": [
    "import array as ar"
   ]
  },
  {
   "cell_type": "code",
   "execution_count": 8,
   "id": "aab8733f",
   "metadata": {},
   "outputs": [],
   "source": [
    "arr = ar.array('i',[1,2])"
   ]
  },
  {
   "cell_type": "code",
   "execution_count": 9,
   "id": "6a52656b",
   "metadata": {},
   "outputs": [
    {
     "name": "stdout",
     "output_type": "stream",
     "text": [
      "array('i', [1, 2])\n"
     ]
    }
   ],
   "source": [
    "print(arr)"
   ]
  },
  {
   "cell_type": "code",
   "execution_count": 10,
   "id": "0d5a059d",
   "metadata": {},
   "outputs": [
    {
     "name": "stdout",
     "output_type": "stream",
     "text": [
      "2\n"
     ]
    }
   ],
   "source": [
    "print(arr[1])"
   ]
  },
  {
   "cell_type": "code",
   "execution_count": 35,
   "id": "46e4c998",
   "metadata": {},
   "outputs": [
    {
     "name": "stdout",
     "output_type": "stream",
     "text": [
      "[1, 2, 3, 4, 5]\n",
      "5\n",
      "15\n",
      "1\n",
      "5\n",
      "[1, 2, 3, 4, 5, 10]\n",
      "[1, 2, 3, 4, 5, 10, 10, 20]\n",
      "[1, 2, 3, 4, 5, 10, 10, 20, [30, 40]]\n",
      "[30, 40]\n"
     ]
    }
   ],
   "source": [
    "list = [1,2,3,4,5]\n",
    "print(list)\n",
    "print(len(list))\n",
    "print(sum(list))\n",
    "print(min(list))\n",
    "print(max(list))\n",
    "\n",
    "list.append(10)\n",
    "print(list)\n",
    "list.extend([10,20])\n",
    "print(list)\n",
    "\n",
    "list1=[30,40]\n",
    "list.append(list1)\n",
    "print(list)\n",
    "\n",
    "list2 = list1.copy()\n",
    "print(list2)\n"
   ]
  },
  {
   "cell_type": "code",
   "execution_count": 36,
   "id": "63a83ed6",
   "metadata": {},
   "outputs": [
    {
     "name": "stdout",
     "output_type": "stream",
     "text": [
      "{1, 2, 3, 4}\n",
      "{1, 2, 3, 4}\n"
     ]
    }
   ],
   "source": [
    "s1 = {1,2,3,3,4}\n",
    "print(s1)\n",
    "s1.add(10)\n",
    "s1.discard(10)\n",
    "print(s1)"
   ]
  },
  {
   "cell_type": "code",
   "execution_count": null,
   "id": "b2f6801f",
   "metadata": {},
   "outputs": [],
   "source": []
  }
 ],
 "metadata": {
  "kernelspec": {
   "display_name": "Python 3 (ipykernel)",
   "language": "python",
   "name": "python3"
  },
  "language_info": {
   "codemirror_mode": {
    "name": "ipython",
    "version": 3
   },
   "file_extension": ".py",
   "mimetype": "text/x-python",
   "name": "python",
   "nbconvert_exporter": "python",
   "pygments_lexer": "ipython3",
   "version": "3.9.12"
  }
 },
 "nbformat": 4,
 "nbformat_minor": 5
}

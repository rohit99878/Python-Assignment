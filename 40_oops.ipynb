{
  "nbformat": 4,
  "nbformat_minor": 0,
  "metadata": {
    "colab": {
      "name": "OOPS-30march.ipynb",
      "provenance": [],
      "collapsed_sections": []
    },
    "kernelspec": {
      "name": "python3",
      "display_name": "Python 3"
    },
    "language_info": {
      "name": "python"
    }
  },
  "cells": [
    {
      "cell_type": "code",
      "execution_count": null,
      "metadata": {
        "id": "Oe69FwYRulCW"
      },
      "outputs": [],
      "source": [
        "class Dog:\n",
        "  def dogName(self,name):\n",
        "        self.name=name\n",
        "  def dogAge(self,age):      \n",
        "        self.age=age\n",
        "  def intro(self):\n",
        "    print(\"name of dog is\",self.name,\" age is \",self.age)\n"
      ]
    },
    {
      "cell_type": "code",
      "source": [
        "h=Dog()"
      ],
      "metadata": {
        "id": "jKSN2z_mw2se"
      },
      "execution_count": null,
      "outputs": []
    },
    {
      "cell_type": "code",
      "source": [
        "h.dogName(\"TOM\")\n",
        "h.dogAge(\"5\")"
      ],
      "metadata": {
        "id": "BxpmmwjExLTr"
      },
      "execution_count": null,
      "outputs": []
    },
    {
      "cell_type": "code",
      "source": [
        "h.intro()"
      ],
      "metadata": {
        "colab": {
          "base_uri": "https://localhost:8080/"
        },
        "id": "B8bsUZBIw_Bq",
        "outputId": "8cc39ec7-15b9-4a4a-b999-68b11053f85e"
      },
      "execution_count": null,
      "outputs": [
        {
          "output_type": "stream",
          "name": "stdout",
          "text": [
            "name of dog is TOM  age is  5\n"
          ]
        }
      ]
    },
    {
      "cell_type": "code",
      "source": [
        "class DBDA:\n",
        "  def stuName(self):\n",
        "      self.name=input(\"Enter name\")       \n",
        "  def stuAge(self):\n",
        "      self.age=input(\"Enter age\") \n",
        "  def stuGender(self):\n",
        "      self.gender=input(\"Enter gender\")\n",
        "  def intro(self):\n",
        "    print(\"My name is\",self.name,\" age is\",self.age,\" and gender is\",self.gender)                     "
      ],
      "metadata": {
        "id": "UrTNZWxY0FAW"
      },
      "execution_count": null,
      "outputs": []
    },
    {
      "cell_type": "code",
      "source": [
        "d=DBDA()"
      ],
      "metadata": {
        "id": "mP39zVRJ1kSt"
      },
      "execution_count": null,
      "outputs": []
    },
    {
      "cell_type": "code",
      "source": [
        "d.stuName()"
      ],
      "metadata": {
        "colab": {
          "base_uri": "https://localhost:8080/"
        },
        "id": "3mk_pnhP1rzY",
        "outputId": "57ac488d-6e28-4548-8b09-d3d636cec82b"
      },
      "execution_count": null,
      "outputs": [
        {
          "name": "stdout",
          "output_type": "stream",
          "text": [
            "Enter nameRam\n"
          ]
        }
      ]
    },
    {
      "cell_type": "code",
      "source": [
        "d.stuAge()"
      ],
      "metadata": {
        "colab": {
          "base_uri": "https://localhost:8080/"
        },
        "id": "Fduv6OHi26Ov",
        "outputId": "ab721d33-997c-42a8-edd5-388baaa28094"
      },
      "execution_count": null,
      "outputs": [
        {
          "name": "stdout",
          "output_type": "stream",
          "text": [
            "Enter age25\n"
          ]
        }
      ]
    },
    {
      "cell_type": "code",
      "source": [
        "d.stuGender()"
      ],
      "metadata": {
        "colab": {
          "base_uri": "https://localhost:8080/"
        },
        "id": "MORXUwr_293s",
        "outputId": "d87d06c2-ba55-4685-f136-f7e446bc9f2b"
      },
      "execution_count": null,
      "outputs": [
        {
          "name": "stdout",
          "output_type": "stream",
          "text": [
            "Enter genderMale\n"
          ]
        }
      ]
    },
    {
      "cell_type": "code",
      "source": [
        "d.intro()"
      ],
      "metadata": {
        "colab": {
          "base_uri": "https://localhost:8080/"
        },
        "id": "ZIvdxPMh32-b",
        "outputId": "b150bf39-7110-4e49-b517-79d992c2d449"
      },
      "execution_count": null,
      "outputs": [
        {
          "output_type": "stream",
          "name": "stdout",
          "text": [
            "My name is Ram  age is 25  and gender is Male\n"
          ]
        }
      ]
    },
    {
      "cell_type": "code",
      "source": [
        "class Lab:\n",
        "  def __init__(self,absent):\n",
        "    self.absent=absent      #instance variable\n",
        "    print(\"New instance is created\")\n",
        "  def countabsent(self,n):\n",
        "    count=self.absent+n   \n",
        "    print(\"Ram is absent\")\n",
        "    print(count)\n",
        "\n",
        "absentee=Lab(5)\n",
        "absentee.countabsent(10)"
      ],
      "metadata": {
        "colab": {
          "base_uri": "https://localhost:8080/"
        },
        "id": "ru0cFEL8YxaN",
        "outputId": "f2473874-96ed-4618-ba43-3e0dc82f7ccc"
      },
      "execution_count": 2,
      "outputs": [
        {
          "output_type": "stream",
          "name": "stdout",
          "text": [
            "New instance is created\n",
            "Ram is absent\n",
            "15\n"
          ]
        }
      ]
    },
    {
      "cell_type": "code",
      "source": [
        "class Car:\n",
        "  def carName(self,name):\n",
        "    self.name=name\n",
        "  def carMileage(self,mileage):\n",
        "    self.mileage=mileage\n",
        "  def carSpeed(self,speed):\n",
        "     self.speed=speed\n",
        "  def intro(self):\n",
        "     print(\"The name of car is\",self.name,\" and mileage is\",self.mileage,\" speed of car \",self.speed)   \n"
      ],
      "metadata": {
        "id": "mHWCK_K3dBkY"
      },
      "execution_count": null,
      "outputs": []
    },
    {
      "cell_type": "code",
      "source": [
        "c=Car()"
      ],
      "metadata": {
        "id": "wZ5oQmxRbc-q"
      },
      "execution_count": null,
      "outputs": []
    },
    {
      "cell_type": "code",
      "source": [
        "c.carName(\"SUMO\")\n",
        "c.carMileage(\"18\")\n",
        "c.carSpeed(\"100\")"
      ],
      "metadata": {
        "id": "4DoSL4oKjs8A"
      },
      "execution_count": null,
      "outputs": []
    },
    {
      "cell_type": "code",
      "source": [
        "c.intro()"
      ],
      "metadata": {
        "colab": {
          "base_uri": "https://localhost:8080/"
        },
        "id": "Kx6XSdwiihTw",
        "outputId": "8c4843f7-ad4d-44f2-93a4-63dc2b902d3f"
      },
      "execution_count": null,
      "outputs": [
        {
          "output_type": "stream",
          "name": "stdout",
          "text": [
            "The name of car is SUMO  and mileage is 18  speed of car  100\n"
          ]
        }
      ]
    },
    {
      "cell_type": "code",
      "source": [
        "class Car:\n",
        "  def __init__(self,name,mileage,speed):\n",
        "    self.name=name\n",
        "    self.mileage=mileage\n",
        "    self.speed=speed\n",
        "\n",
        "  def intro(self):\n",
        "     print(\"The name of car is\",self.name,\" and mileage is\",self.mileage,\" speed of car \",self.speed)   \n"
      ],
      "metadata": {
        "id": "agNNFbUrjS2n"
      },
      "execution_count": null,
      "outputs": []
    },
    {
      "cell_type": "code",
      "source": [
        "e1 = Car(\"swift\",10,120)"
      ],
      "metadata": {
        "id": "BRiCZecNnk9N"
      },
      "execution_count": null,
      "outputs": []
    },
    {
      "cell_type": "code",
      "source": [
        "e1.intro()"
      ],
      "metadata": {
        "colab": {
          "base_uri": "https://localhost:8080/"
        },
        "id": "qZDBT2yZzrsm",
        "outputId": "41d3143c-0f3c-44e0-e2d8-fe4f3e7fc86e"
      },
      "execution_count": null,
      "outputs": [
        {
          "output_type": "stream",
          "name": "stdout",
          "text": [
            "The name of car is swift  and mileage is 10  speed of car  120\n"
          ]
        }
      ]
    },
    {
      "cell_type": "code",
      "source": [
        "# inheritance\n",
        "class Student():\n",
        "  population=0\n",
        "  def __init__(self,data):\n",
        "    self.data=data\n",
        "    Student.population+=1\n",
        "    print(\"Roll Number is : \")"
      ],
      "metadata": {
        "id": "T2nWolL0zAXl"
      },
      "execution_count": 1,
      "outputs": []
    },
    {
      "cell_type": "code",
      "source": [
        "s=Student()"
      ],
      "metadata": {
        "colab": {
          "base_uri": "https://localhost:8080/",
          "height": 165
        },
        "id": "zaIWu9uH0BPj",
        "outputId": "bc4986d0-9418-47fe-fd73-0ccd040a65f0"
      },
      "execution_count": null,
      "outputs": [
        {
          "output_type": "error",
          "ename": "TypeError",
          "evalue": "ignored",
          "traceback": [
            "\u001b[0;31m---------------------------------------------------------------------------\u001b[0m",
            "\u001b[0;31mTypeError\u001b[0m                                 Traceback (most recent call last)",
            "\u001b[0;32m<ipython-input-2-e41e34b6dfb9>\u001b[0m in \u001b[0;36m<module>\u001b[0;34m()\u001b[0m\n\u001b[0;32m----> 1\u001b[0;31m \u001b[0ms\u001b[0m\u001b[0;34m=\u001b[0m\u001b[0mStudent\u001b[0m\u001b[0;34m(\u001b[0m\u001b[0;34m)\u001b[0m\u001b[0;34m\u001b[0m\u001b[0;34m\u001b[0m\u001b[0m\n\u001b[0m",
            "\u001b[0;31mTypeError\u001b[0m: __init__() missing 1 required positional argument: 'data'"
          ]
        }
      ]
    }
  ]
}
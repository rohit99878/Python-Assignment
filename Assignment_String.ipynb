{
  "nbformat": 4,
  "nbformat_minor": 0,
  "metadata": {
    "colab": {
      "name": "assignment_example.ipynb",
      "provenance": [],
      "collapsed_sections": []
    },
    "kernelspec": {
      "name": "python3",
      "display_name": "Python 3"
    },
    "language_info": {
      "name": "python"
    }
  },
  "cells": [
    {
      "cell_type": "code",
      "execution_count": null,
      "metadata": {
        "colab": {
          "base_uri": "https://localhost:8080/"
        },
        "id": "EZV1Y_9c6w9h",
        "outputId": "b3fdae2d-2430-479c-d4e9-394e9e4a778a"
      },
      "outputs": [
        {
          "output_type": "stream",
          "name": "stdout",
          "text": [
            "['google.com']\n",
            "{'g': 2, 'o': 3, 'l': 1, 'e': 1, '.': 1, 'c': 1, 'm': 1}\n"
          ]
        }
      ],
      "source": [
        "#Write a Python program to count the number of characters (character frequency) in a string. \n",
        "#Sample String : google.com'\n",
        "#Expected Result : {'g': 2, 'o': 3, 'l': 1, 'e': 1, '.': 1, 'c': 1, 'm': 1}\n",
        "\n",
        "s=\"google.com\"\n",
        "print(s.split())\n",
        "dict={}\n",
        "for i in s:\n",
        "  n=s.count(i)  #letter count\n",
        "  dict[i]=n\n",
        "print(dict)"
      ]
    },
    {
      "cell_type": "code",
      "source": [
        "s=input(\"enter  \")\n",
        "if s[:2]== \"Is\":\n",
        "  print(\"string unchange\")\n",
        "else:\n",
        "  print(\"Is\" + s)\n"
      ],
      "metadata": {
        "colab": {
          "base_uri": "https://localhost:8080/"
        },
        "id": "v5l3K2-zg3AB",
        "outputId": "2d6559cc-36d6-4d06-8e12-babbb1278390"
      },
      "execution_count": null,
      "outputs": [
        {
          "output_type": "stream",
          "name": "stdout",
          "text": [
            "enter  asdf\n",
            "Isasdf\n"
          ]
        }
      ]
    },
    {
      "cell_type": "code",
      "source": [
        "for i in range(5,0,-1):\n",
        "    print(\"X\"*i)"
      ],
      "metadata": {
        "colab": {
          "base_uri": "https://localhost:8080/"
        },
        "id": "W4hRfGNcuQk1",
        "outputId": "8d30a148-66f4-49cb-bb40-13325419e88f"
      },
      "execution_count": null,
      "outputs": [
        {
          "output_type": "stream",
          "name": "stdout",
          "text": [
            "XXXXX\n",
            "XXXX\n",
            "XXX\n",
            "XX\n",
            "X\n"
          ]
        }
      ]
    },
    {
      "cell_type": "code",
      "source": [
        "#############   count vowels ####\n",
        "count=0\n",
        "line=input(\"Enter a line to test:\")\n",
        "line=line.lower()\n",
        "for element in line:\n",
        "    if element=='a' or element=='e' or element=='i' or element=='o' or element=='u':\n",
        "        count+=1\n",
        "print(\"Total vowels are:\",count)\n"
      ],
      "metadata": {
        "colab": {
          "base_uri": "https://localhost:8080/"
        },
        "id": "-IxPwuHlwX1t",
        "outputId": "add83450-33b1-49b9-b938-63d3bd049cbf"
      },
      "execution_count": null,
      "outputs": [
        {
          "output_type": "stream",
          "name": "stdout",
          "text": [
            "Enter a line to test:dertdyurthrgdf\n",
            "Total vowels are: 2\n"
          ]
        }
      ]
    },
    {
      "cell_type": "code",
      "source": [
        "s=input(\"Enter the string : \")\n",
        "if len(s)>2:\n",
        "  print(s[:2]+s[-2:])\n",
        "elif len(s)==2:\n",
        "  print(s*2)\n",
        "else:\n",
        "  print(\"Empty string\")  "
      ],
      "metadata": {
        "colab": {
          "base_uri": "https://localhost:8080/"
        },
        "id": "JL2dqXr8G30J",
        "outputId": "7804dfdd-f181-49a2-bbde-0e8527f11337"
      },
      "execution_count": null,
      "outputs": [
        {
          "output_type": "stream",
          "name": "stdout",
          "text": [
            "Enter the string : ghfjhkuj\n",
            "ghuj\n"
          ]
        }
      ]
    },
    {
      "cell_type": "code",
      "source": [
        "s=input(\"Enter the string : \")\n",
        "if s[-3:]==\"ing\":\n",
        "    print(s+\"ly\")\n",
        "elif len(s)>2:\n",
        "    print(s+\"ing\") \n",
        "else:\n",
        "    print(s)"
      ],
      "metadata": {
        "colab": {
          "base_uri": "https://localhost:8080/"
        },
        "id": "d6JMb6YkJfBe",
        "outputId": "3c269cdc-93b5-4fbf-ac32-f3aa3f8e8802"
      },
      "execution_count": null,
      "outputs": [
        {
          "output_type": "stream",
          "name": "stdout",
          "text": [
            "Enter the string : string\n",
            "stringly\n"
          ]
        }
      ]
    },
    {
      "cell_type": "code",
      "source": [
        "s=input(\"enter the string : \")\n",
        "a=s.split()\n"
      ],
      "metadata": {
        "id": "D_bX6EdZNuiX"
      },
      "execution_count": null,
      "outputs": []
    },
    {
      "cell_type": "code",
      "source": [
        "s=input(\"enter the string : \")\n",
        "for i in range(0,len(s),2):\n",
        "  print(s[i],end='')"
      ],
      "metadata": {
        "id": "SYyxjEO_PBwp"
      },
      "execution_count": null,
      "outputs": []
    },
    {
      "cell_type": "code",
      "source": [
        "#25 ..function\n",
        "def is_group_member(group_data, n):\n",
        " for i in group_data:\n",
        "   if n == i:\n",
        "     return True\n",
        " return False\n",
        "print(is_group_member([1, 5, 8, 3], 3))\n"
      ],
      "metadata": {
        "colab": {
          "base_uri": "https://localhost:8080/"
        },
        "id": "HubncaNIzle9",
        "outputId": "3f7429e1-9542-4b65-de45-89c76c91b1bb"
      },
      "execution_count": null,
      "outputs": [
        {
          "output_type": "stream",
          "name": "stdout",
          "text": [
            "True\n"
          ]
        }
      ]
    },
    {
      "cell_type": "code",
      "source": [
        "#35. Write a Python program that will return true if the two given integer values are \n",
        "#equal or their sum or difference is 5.\n",
        "def test_number(x, y):\n",
        " if x == y or abs(x-y) == 5 or (x+y) == 5:\n",
        "    print(\"True\")\n",
        " else:\n",
        "    print(\"False\")\n",
        "(test_number(7, 2))\n",
        "(test_number(3, 4))"
      ],
      "metadata": {
        "colab": {
          "base_uri": "https://localhost:8080/"
        },
        "id": "jGYTTPCC17R6",
        "outputId": "a17d81d7-a2ad-4756-c034-fc7ff18befd5"
      },
      "execution_count": null,
      "outputs": [
        {
          "output_type": "stream",
          "name": "stdout",
          "text": [
            "True\n",
            "False\n"
          ]
        }
      ]
    },
    {
      "cell_type": "code",
      "source": [
        "def vowel(data):\n",
        "  for i in data:\n",
        "    if (i==\"a\" or \"e\" or \"i\" or \"o\" or \"u\"):\n",
        "      print(\"vowel\")\n",
        "    else:\n",
        "      print(\"not vowel\")  \n"
      ],
      "metadata": {
        "id": "1X0gjVyrZERJ"
      },
      "execution_count": null,
      "outputs": []
    },
    {
      "cell_type": "code",
      "source": [
        "vowel(\"a\")"
      ],
      "metadata": {
        "colab": {
          "base_uri": "https://localhost:8080/"
        },
        "id": "WNuGfVqGZuIQ",
        "outputId": "f81b1a2f-55b1-41ed-9ead-6eb1c6d526da"
      },
      "execution_count": null,
      "outputs": [
        {
          "output_type": "stream",
          "name": "stdout",
          "text": [
            "vowel\n"
          ]
        }
      ]
    },
    {
      "cell_type": "code",
      "source": [
        "vowel(\"z\")"
      ],
      "metadata": {
        "colab": {
          "base_uri": "https://localhost:8080/"
        },
        "id": "7yV73r6oZzem",
        "outputId": "4223c3df-be76-49a3-f383-cb5fefccdef7"
      },
      "execution_count": null,
      "outputs": [
        {
          "output_type": "stream",
          "name": "stdout",
          "text": [
            "vowel\n"
          ]
        }
      ]
    },
    {
      "cell_type": "code",
      "source": [
        "from math import pi\n",
        "a=int(input(\"enter the radius :\"))\n",
        "print(\"area of circle =\",pi*a**2)\n"
      ],
      "metadata": {
        "colab": {
          "base_uri": "https://localhost:8080/"
        },
        "id": "-Pd0M3OXaXL1",
        "outputId": "e843c6c4-31f5-48d0-f367-c7620de77a09"
      },
      "execution_count": null,
      "outputs": [
        {
          "output_type": "stream",
          "name": "stdout",
          "text": [
            "enter the radius :4\n",
            "area of circle = 50.26548245743669\n"
          ]
        }
      ]
    },
    {
      "cell_type": "code",
      "source": [
        "a=input(\"enter name 1 :\")\n",
        "b=input(\"ener name 2 : \")\n",
        "print( b ,  a )"
      ],
      "metadata": {
        "colab": {
          "base_uri": "https://localhost:8080/"
        },
        "id": "yKEV-d4ycTFq",
        "outputId": "2f0fc67d-8aad-4422-a474-a53742025809"
      },
      "execution_count": null,
      "outputs": [
        {
          "output_type": "stream",
          "name": "stdout",
          "text": [
            "enter name 1 :aaaaaa\n",
            "ener name 2 : bbbbb\n",
            "bbbbb aaaaaa\n"
          ]
        }
      ]
    },
    {
      "cell_type": "code",
      "source": [
        "a=input(\"enter name 1 :\")     \n",
        "b=input(\"ener name 2 : \")\n",
        "print( b[::-1] ,  a[::-1] )"
      ],
      "metadata": {
        "colab": {
          "base_uri": "https://localhost:8080/"
        },
        "id": "0A7Ju99Bc-Vt",
        "outputId": "5519a01f-c414-4897-b314-db84479b7b1a"
      },
      "execution_count": null,
      "outputs": [
        {
          "output_type": "stream",
          "name": "stdout",
          "text": [
            "enter name 1 :hello world\n",
            "ener name 2 : byeeee\n",
            "eeeeyb dlrow olleh\n"
          ]
        }
      ]
    },
    {
      "cell_type": "code",
      "source": [
        "n=int(input(\"number \"))\n",
        "if n <= 17:\n",
        "  print(17-n)\n",
        "else:\n",
        "  print((n-17)*2)  "
      ],
      "metadata": {
        "colab": {
          "base_uri": "https://localhost:8080/"
        },
        "id": "uaedNXimggTa",
        "outputId": "dc356ded-9c8e-42b0-e55a-8bf55a0dfeb2"
      },
      "execution_count": null,
      "outputs": [
        {
          "output_type": "stream",
          "name": "stdout",
          "text": [
            "number 22\n",
            "10\n"
          ]
        }
      ]
    },
    {
      "cell_type": "code",
      "source": [
        "a=input(\"enter \")\n",
        "count=0\n",
        "for i in a:\n",
        "  if i==\"4\":\n",
        "    count=count+1\n",
        "print(count)  "
      ],
      "metadata": {
        "colab": {
          "base_uri": "https://localhost:8080/"
        },
        "id": "EVA0-B6Yk5RV",
        "outputId": "452e1dee-014b-4883-9875-ba89152a26b1"
      },
      "execution_count": null,
      "outputs": [
        {
          "output_type": "stream",
          "name": "stdout",
          "text": [
            "enter 1,4,2,4,4,4,4\n",
            "5\n"
          ]
        }
      ]
    },
    {
      "cell_type": "code",
      "source": [
        "def group(data,n):\n",
        "  for i in data:\n",
        "    if i==n:\n",
        "      print(\"TRUE\")\n",
        "  print(\"FALSE\")      "
      ],
      "metadata": {
        "id": "D7sQuUezmvB2"
      },
      "execution_count": null,
      "outputs": []
    },
    {
      "cell_type": "code",
      "source": [
        "group([1,2,3,4,5],8)"
      ],
      "metadata": {
        "colab": {
          "base_uri": "https://localhost:8080/"
        },
        "id": "cJJ8GN-npO-l",
        "outputId": "5c7425e0-bc9e-4c03-9aea-1c0da9de64ac"
      },
      "execution_count": null,
      "outputs": [
        {
          "output_type": "stream",
          "name": "stdout",
          "text": [
            "FALSE\n"
          ]
        }
      ]
    },
    {
      "cell_type": "code",
      "source": [
        "b=int(input(\"enter b\"))\n",
        "h=int(input(\"enter h\"))\n",
        "area=(b*h)/2\n",
        "print(area)"
      ],
      "metadata": {
        "colab": {
          "base_uri": "https://localhost:8080/"
        },
        "id": "TagsOxN5pTyP",
        "outputId": "71600a42-b76e-45fc-f8ab-0614563fd6dd"
      },
      "execution_count": null,
      "outputs": [
        {
          "output_type": "stream",
          "name": "stdout",
          "text": [
            "enter b12\n",
            "enter h15\n",
            "90.0\n"
          ]
        }
      ]
    },
    {
      "cell_type": "code",
      "source": [
        "def number(x,y):\n",
        "  if x==y or abs(x-y)== 5 or (x+y)== 5:\n",
        "    print(\"TRUE\")\n",
        "  else:\n",
        "    print(\"false\")  "
      ],
      "metadata": {
        "id": "oM6YSGJ1sFSb"
      },
      "execution_count": null,
      "outputs": []
    },
    {
      "cell_type": "code",
      "source": [
        "number(3,2)"
      ],
      "metadata": {
        "colab": {
          "base_uri": "https://localhost:8080/"
        },
        "id": "tlj6CIiatGa4",
        "outputId": "fc8146ca-b667-4fda-f74c-93d994ff606d"
      },
      "execution_count": null,
      "outputs": [
        {
          "output_type": "stream",
          "name": "stdout",
          "text": [
            "TRUE\n"
          ]
        }
      ]
    },
    {
      "cell_type": "code",
      "source": [
        "number(7,4)"
      ],
      "metadata": {
        "colab": {
          "base_uri": "https://localhost:8080/"
        },
        "id": "OSU7ZdXAtLV3",
        "outputId": "f90c7893-0209-428a-dd79-cdb7756a3d37"
      },
      "execution_count": null,
      "outputs": [
        {
          "output_type": "stream",
          "name": "stdout",
          "text": [
            "false\n"
          ]
        }
      ]
    },
    {
      "cell_type": "code",
      "source": [
        "def details():\n",
        "  name=\"ram\"\n",
        "  age=\"25\"\n",
        "  address=\"mumbai\"\n",
        "  print(\"name :\",name)\n",
        "  print(\"age  :\",age)\n",
        "  print(\"address  :\",address)"
      ],
      "metadata": {
        "id": "1Zql9XN-tO0E"
      },
      "execution_count": null,
      "outputs": []
    },
    {
      "cell_type": "code",
      "source": [
        "details()"
      ],
      "metadata": {
        "colab": {
          "base_uri": "https://localhost:8080/"
        },
        "id": "xs5DpbJDuECS",
        "outputId": "09480048-6246-4ede-da8a-8d857c328ac8"
      },
      "execution_count": null,
      "outputs": [
        {
          "output_type": "stream",
          "name": "stdout",
          "text": [
            "name : ram\n",
            "age  : 25\n",
            "address  : mumbai\n"
          ]
        }
      ]
    },
    {
      "cell_type": "code",
      "source": [
        ""
      ],
      "metadata": {
        "id": "3hdzn9lmuHMK"
      },
      "execution_count": null,
      "outputs": []
    }
  ]
}
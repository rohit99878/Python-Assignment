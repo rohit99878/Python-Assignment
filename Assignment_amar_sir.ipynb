{
 "cells": [
  {
   "cell_type": "markdown",
   "id": "115003a8",
   "metadata": {},
   "source": [
    "Q.1 Exercise Question 1: Given a two list. Create a\n",
    "#third list by picking an odd-index element from the first list and even index\n",
    "#elements from the second.\n",
    "#For\n",
    "#Example:\n",
    "#listOne = [3, 6, 9, 12, 15, 18, 21]\n",
    "#listTwo = [4, 8, 12, 16, 20, 24, 28]\n",
    "#Expected\n",
    "#Output:\n",
    "#Element at odd-index positions from list one\n",
    "[6, 12, 18]\n",
    "Element at even-index positions from list two\n",
    "[4, 12, 20, 28]\n",
    "Printing Final third list\n",
    "[6, 12, 18, 4, 12, 20, 28]"
   ]
  },
  {
   "cell_type": "markdown",
   "id": "2256358d",
   "metadata": {},
   "source": [
    "\n",
    "\n",
    "ListOne=[2,4,30,25,22,1]\n",
    "ListTwo=[11,22,33,44,55,66,77]\n",
    "ListThree= list()\n",
    "odd_pos = ListOne[1::2]\n",
    "print(\"Element at odd index position from list one:\")\n",
    "print(odd_pos)\n",
    "even_pos= ListTwo[0::2]\n",
    "print(\"Element at even index position from list two:\")\n",
    "print(even_pos)\n",
    "print(\"Final Third List:\")\n",
    "ListThree.extend(odd_pos)\n",
    "ListThree.extend(even_pos)\n",
    "print(ListThree)\n",
    "\n"
   ]
  },
  {
   "cell_type": "markdown",
   "id": "0251e38e",
   "metadata": {},
   "source": [
    "Given a number count the total\n",
    "number of digits in a number"
   ]
  },
  {
   "cell_type": "code",
   "execution_count": 8,
   "id": "878364e1",
   "metadata": {},
   "outputs": [
    {
     "name": "stdout",
     "output_type": "stream",
     "text": [
      "Enter number: 123456\n",
      "digit in given number:  6\n"
     ]
    }
   ],
   "source": [
    "# Q.2\n",
    "a=input(\"Enter number: \")\n",
    "print(\"digit in given number: \",len(a))"
   ]
  },
  {
   "cell_type": "markdown",
   "id": "dffe600d",
   "metadata": {},
   "source": [
    "Write a Python program to print the numbers of a\n",
    "specified list after removing even numbers from it. "
   ]
  },
  {
   "cell_type": "code",
   "execution_count": 1,
   "id": "bfddad48",
   "metadata": {},
   "outputs": [
    {
     "name": "stdout",
     "output_type": "stream",
     "text": [
      "[11, 33, 55, 77]\n"
     ]
    }
   ],
   "source": [
    "# Q.3\n",
    "a=[11,22,33,44,55,66,77,88]\n",
    "b=list()\n",
    "for i in a:\n",
    "    if i%2==0:\n",
    "        a.remove(i)\n",
    "print(a)"
   ]
  },
  {
   "cell_type": "markdown",
   "id": "eb0cd555",
   "metadata": {},
   "source": [
    "Write a Python program to generate and print a list of\n",
    "first and last 5 elements where the values are square of numbers between 1 and\n",
    "30 (both included).  "
   ]
  },
  {
   "cell_type": "code",
   "execution_count": 3,
   "id": "49628a5d",
   "metadata": {},
   "outputs": [
    {
     "name": "stdout",
     "output_type": "stream",
     "text": [
      "[1, 4, 9, 16, 25, 36, 49, 64, 81, 100, 121, 144, 169, 196, 225, 256, 289, 324, 361, 400, 441, 484, 529, 576, 625, 676, 729, 784, 841, 900]\n",
      "Enter the value of how many elements of starting to be printed5\n",
      "Your first 5 elements are [1, 4, 9, 16, 25]\n",
      "Enter the value of how many elements of end to be printed 5\n",
      "Your last 5 elements are [676, 729, 784, 841, 900]\n"
     ]
    }
   ],
   "source": [
    "# Q.4\n",
    "num=1\n",
    "a = []\n",
    "while num<31:\n",
    "    b=num**2\n",
    "    a.append(b)\n",
    "    num+=1\n",
    "print(a) \n",
    "c=int(input(\"Enter the value of how many elements of starting to be printed\"))\n",
    "b = a[0:c:1]\n",
    "print(\"Your first\",c,\"elements are\",b)\n",
    "d=int(input(\"Enter the value of how many elements of end to be printed \"))\n",
    "e = a[-d::]\n",
    "print(\"Your last\",d,\"elements are\",e) "
   ]
  },
  {
   "cell_type": "markdown",
   "id": "54713466",
   "metadata": {},
   "source": [
    "Write a Python program to generate all permutations of a list in Python."
   ]
  },
  {
   "cell_type": "code",
   "execution_count": 1,
   "id": "5f28ea37",
   "metadata": {},
   "outputs": [
    {
     "name": "stdout",
     "output_type": "stream",
     "text": [
      "[1, 2, 3, 4]\n",
      "[1, 2, 4, 3]\n",
      "[1, 3, 2, 4]\n",
      "[1, 3, 4, 2]\n",
      "[1, 4, 2, 3]\n",
      "[1, 4, 3, 2]\n",
      "[2, 1, 3, 4]\n",
      "[2, 1, 4, 3]\n",
      "[2, 3, 1, 4]\n",
      "[2, 3, 4, 1]\n",
      "[2, 4, 1, 3]\n",
      "[2, 4, 3, 1]\n",
      "[3, 1, 2, 4]\n",
      "[3, 1, 4, 2]\n",
      "[3, 2, 1, 4]\n",
      "[3, 2, 4, 1]\n",
      "[3, 4, 1, 2]\n",
      "[3, 4, 2, 1]\n",
      "[4, 1, 2, 3]\n",
      "[4, 1, 3, 2]\n",
      "[4, 2, 1, 3]\n",
      "[4, 2, 3, 1]\n",
      "[4, 3, 1, 2]\n",
      "[4, 3, 2, 1]\n"
     ]
    }
   ],
   "source": [
    "# Q.5\n",
    "List=[1,2,3,4]\n",
    "def permutations(start, end=[]):\n",
    "    if len(start) == 0:\n",
    "        print(end)\n",
    "    else:\n",
    "        for i in range(len(start)):\n",
    "            permutations(start[:i] + start[i+1:], end + start[i:i+1])\n",
    "permutations(List)"
   ]
  },
  {
   "cell_type": "markdown",
   "id": "ecd7adbc",
   "metadata": {},
   "source": [
    "Write a python program to check whether two lists are\n",
    "circularly identical.   "
   ]
  },
  {
   "cell_type": "code",
   "execution_count": 6,
   "id": "3e2ab4e8",
   "metadata": {},
   "outputs": [
    {
     "name": "stdout",
     "output_type": "stream",
     "text": [
      "yes circularly equal\n"
     ]
    }
   ],
   "source": [
    "# Q.6\n",
    "a = [1,2,3,4,5]\n",
    "b = [5,4,3,2,1]\n",
    "c = b[ : :-1]\n",
    "d = set(a)\n",
    "e = set(c)\n",
    "if d==e :\n",
    "    print(\"yes circularly equal\")\n",
    "else :\n",
    "    print(\"circularly not equal\")\n"
   ]
  },
  {
   "cell_type": "markdown",
   "id": "17bef268",
   "metadata": {},
   "source": [
    " Write a Python\n",
    "program to change the position of every n-th value with the (n+1)th in a\n",
    "list. \n",
    "Sample list: [0,1,2,3,4,5]\n",
    "\n",
    "\n",
    "\n",
    "\n",
    "\n",
    "Expected Output: [1, 0, 3, 2, 5, 4]"
   ]
  },
  {
   "cell_type": "code",
   "execution_count": 12,
   "id": "23ce0133",
   "metadata": {},
   "outputs": [
    {
     "name": "stdout",
     "output_type": "stream",
     "text": [
      "[1, 0, 3, 2, 5, 4]\n"
     ]
    }
   ],
   "source": [
    "# Q.7 \n",
    "a=[0,1,2,3,4,5]\n",
    "for i in range(0,len(a),2):\n",
    "    a[i],a[i+1]=a[i+1],a[i]\n",
    "print(a)\n",
    "\n"
   ]
  },
  {
   "cell_type": "markdown",
   "id": "8c66090c",
   "metadata": {},
   "source": [
    "Write\n",
    "a Python program to iterate over two lists simultaneously.  "
   ]
  },
  {
   "cell_type": "code",
   "execution_count": 13,
   "id": "2e9df6f7",
   "metadata": {},
   "outputs": [
    {
     "name": "stdout",
     "output_type": "stream",
     "text": [
      "1 2\n",
      "2 4\n",
      "3 6\n",
      "4 8\n",
      "5 10\n",
      "6 12\n"
     ]
    }
   ],
   "source": [
    "# Q.8\n",
    "a=[1,2,3,4,5,6]\n",
    "b=[2,4,6,8,10,12]\n",
    "i=0\n",
    "while i<len(a):\n",
    "    print(a[i],b[i])\n",
    "    i+=1"
   ]
  },
  {
   "cell_type": "markdown",
   "id": "c7319770",
   "metadata": {},
   "source": [
    "Write a Python program to generate the combinations of n\n",
    "distinct objects taken from the elements of a given list. Original list: [1, 2, 3, 4, 5, 6, 7, 8, 9] Combinations of 2\n",
    "distinct objects: [1, 2] [1, 3] [1, 4] [1, 5] .... [7, 8] [7, 9] [8, 9]\n"
   ]
  },
  {
   "cell_type": "code",
   "execution_count": 7,
   "id": "be7e966a",
   "metadata": {},
   "outputs": [
    {
     "name": "stdout",
     "output_type": "stream",
     "text": [
      "Combination of distinct elements are:  [[1, 9], [2, 9], [3, 9], [4, 9], [5, 9], [6, 9], [7, 9], [8, 9]]\n"
     ]
    }
   ],
   "source": [
    "# Q.9\n",
    "a=[1,2,3,4,5,6,7,8,9]\n",
    "c=[]\n",
    "for i in a:\n",
    "    for j in a:\n",
    "        b=[]\n",
    "    if (i == j):\n",
    "        pass\n",
    "    elif i != j:\n",
    "        b.append(i)\n",
    "        b.append(j)\n",
    "        c.append(b)\n",
    "print(\"Combination of distinct elements are: \",c)\n"
   ]
  },
  {
   "cell_type": "markdown",
   "id": "bbc197ac",
   "metadata": {},
   "source": [
    "Write a Python program to remove duplicates from a list of\n",
    "lists. \n",
    "\n",
    "\n",
    "\n",
    "Sample list : [[10, 20], [40], [30, 56, 25], [10, 20], [33],\n",
    "[40]]\n",
    "\n",
    "\n",
    "New List : [[10, 20], [30, 56, 25], [33], [40]]"
   ]
  },
  {
   "cell_type": "code",
   "execution_count": null,
   "id": "ccf4a276",
   "metadata": {},
   "outputs": [],
   "source": [
    "# Q.10\n",
    "list1=[[10,20],[40],[30,56,25],[10,20],[33]]\n",
    "list2=[]\n",
    "for i in list1:\n",
    "    if i not in list2:\n",
    "        list2.append(i)\n",
    "\n",
    "print(list2)"
   ]
  }
 ],
 "metadata": {
  "kernelspec": {
   "display_name": "Python 3 (ipykernel)",
   "language": "python",
   "name": "python3"
  },
  "language_info": {
   "codemirror_mode": {
    "name": "ipython",
    "version": 3
   },
   "file_extension": ".py",
   "mimetype": "text/x-python",
   "name": "python",
   "nbconvert_exporter": "python",
   "pygments_lexer": "ipython3",
   "version": "3.9.7"
  }
 },
 "nbformat": 4,
 "nbformat_minor": 5
}

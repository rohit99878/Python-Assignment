{
 "cells": [
  {
   "cell_type": "code",
   "execution_count": 27,
   "id": "53ca661b",
   "metadata": {},
   "outputs": [
    {
     "name": "stdout",
     "output_type": "stream",
     "text": [
      "True\n"
     ]
    }
   ],
   "source": [
    "# Q.1  Write a Python program find a list of integers with exactly two occurrences of nineteen and at least three occurrences offive.\n",
    "\n",
    "a=[19,19,5,5,5,5,5]\n",
    "print(a.count(19)==2 and a.count(5)>=3)"
   ]
  },
  {
   "cell_type": "code",
   "execution_count": 28,
   "id": "0febba7d",
   "metadata": {},
   "outputs": [
    {
     "name": "stdout",
     "output_type": "stream",
     "text": [
      "Enter a list:19,19,15,5,5,5,1,2\n",
      "lenght of List:  8 and Fifth element is:  5\n",
      "true\n"
     ]
    }
   ],
   "source": [
    "# Q.2 Write a Python program that accept a list of integers and check the length and the fifth element. Return true if the length of the list is 8 and fifth element occurs thrice in the said list. \n",
    "l=input(\"Enter a list:\")\n",
    "s=l.split(\",\")\n",
    "print(\"lenght of List: \", len(s), \"and Fifth element is: \", s[4])\n",
    "if len(s)==8 and s.count(s[4])==3:\n",
    "    print(\"true\")"
   ]
  },
  {
   "cell_type": "code",
   "execution_count": 29,
   "id": "744ad1d4",
   "metadata": {},
   "outputs": [
    {
     "name": "stdout",
     "output_type": "stream",
     "text": [
      "[['The', 'dance', 'held', 'in', 'the', 'school', 'gym', 'ende', 'at', 'midnight.'], [' ', ',', ' ', ' ', ' ', ' ', ' ', ',', ' ', ' ', ' ']]\n"
     ]
    }
   ],
   "source": [
    "# Q3. Write a Python program to split a string of words separated by commas and spaces into two lists, words and separators. \n",
    "a=\"The dance, held in the school gym, ende at midnight.\"\n",
    "b=a.split(\",\")\n",
    "c=\"\"\n",
    "for i in range (len(b)):\n",
    "    c+=b[i]\n",
    "    d=c.split()\n",
    "    q=[]\n",
    "for i in a:\n",
    "    if i==\" \" or i==\",\":\n",
    "        q.append(i)\n",
    "w=[]\n",
    "w.append(d)\n",
    "w.append(q)\n",
    "print(w)\n",
    "    \n",
    "    "
   ]
  },
  {
   "cell_type": "code",
   "execution_count": 26,
   "id": "70bea05b",
   "metadata": {},
   "outputs": [
    {
     "name": "stdout",
     "output_type": "stream",
     "text": [
      "[5, 8, 9]\n"
     ]
    }
   ],
   "source": [
    "# Q.4 Write a Python program to find missing numbers from a list. Input : [1,2,3,4,6,7,10] Output : [5, 8, 9]\n",
    "a=[1,2,3,4,5,6,7,8,9,10]\n",
    "b=[1,2,3,4,6,7,10]\n",
    "d=[]\n",
    "for i in a:\n",
    "    if i not in b:\n",
    "        d.append(i)\n",
    "print(d)\n"
   ]
  },
  {
   "cell_type": "code",
   "execution_count": 2,
   "id": "e5e9ed08",
   "metadata": {},
   "outputs": [
    {
     "ename": "NameError",
     "evalue": "name 'a' is not defined",
     "output_type": "error",
     "traceback": [
      "\u001b[1;31m---------------------------------------------------------------------------\u001b[0m",
      "\u001b[1;31mNameError\u001b[0m                                 Traceback (most recent call last)",
      "\u001b[1;32m~\\AppData\\Local\\Temp/ipykernel_24364/134598320.py\u001b[0m in \u001b[0;36m<module>\u001b[1;34m\u001b[0m\n\u001b[0;32m      3\u001b[0m \u001b[1;32mfor\u001b[0m \u001b[0mi\u001b[0m \u001b[1;32min\u001b[0m \u001b[0ml\u001b[0m\u001b[1;33m:\u001b[0m\u001b[1;33m\u001b[0m\u001b[1;33m\u001b[0m\u001b[0m\n\u001b[0;32m      4\u001b[0m     \u001b[1;32mif\u001b[0m \u001b[0mi\u001b[0m\u001b[1;33m==\u001b[0m\u001b[1;36m0\u001b[0m\u001b[1;33m:\u001b[0m\u001b[1;33m\u001b[0m\u001b[1;33m\u001b[0m\u001b[0m\n\u001b[1;32m----> 5\u001b[1;33m         \u001b[0ma\u001b[0m\u001b[1;33m.\u001b[0m\u001b[0mremove\u001b[0m\u001b[1;33m(\u001b[0m\u001b[0mi\u001b[0m\u001b[1;33m)\u001b[0m\u001b[1;33m\u001b[0m\u001b[1;33m\u001b[0m\u001b[0m\n\u001b[0m\u001b[0;32m      6\u001b[0m         \u001b[0ma\u001b[0m\u001b[1;33m.\u001b[0m\u001b[0mappend\u001b[0m\u001b[1;33m(\u001b[0m\u001b[0mi\u001b[0m\u001b[1;33m)\u001b[0m\u001b[1;33m\u001b[0m\u001b[1;33m\u001b[0m\u001b[0m\n\u001b[0;32m      7\u001b[0m \u001b[0mprint\u001b[0m\u001b[1;33m(\u001b[0m\u001b[0ml\u001b[0m\u001b[1;33m)\u001b[0m\u001b[1;33m\u001b[0m\u001b[1;33m\u001b[0m\u001b[0m\n",
      "\u001b[1;31mNameError\u001b[0m: name 'a' is not defined"
     ]
    }
   ],
   "source": [
    "# Q.5 Write a Python program to push all zeros to the end of a list. Input : [0,2,3,4,6,7,10]Output : [2, 3, 4, 6, 7, 10, 0]\n",
    "l=[0,2,3,4,6,7,10]\n",
    "for i in l:\n",
    "    if i==0:\n",
    "        a.remove(i)\n",
    "        a.append(i)\n",
    "print(l)"
   ]
  },
  {
   "cell_type": "code",
   "execution_count": null,
   "id": "4ce51168",
   "metadata": {},
   "outputs": [],
   "source": []
  },
  {
   "cell_type": "code",
   "execution_count": 11,
   "id": "884e18b1",
   "metadata": {},
   "outputs": [
    {
     "name": "stdout",
     "output_type": "stream",
     "text": [
      "[1, 2, 3, 4, 5]\n"
     ]
    }
   ],
   "source": [
    "list=[1,1,2,3,3,4,4,5]\n",
    "def ulist(list):\n",
    "    a=[]\n",
    "    ulist=set(list)\n",
    "    for list in ulist:\n",
    "        a.append(list)\n",
    "    return a\n",
    "print(ulist(list))\n",
    "\n"
   ]
  },
  {
   "cell_type": "code",
   "execution_count": null,
   "id": "9bed68ef",
   "metadata": {},
   "outputs": [],
   "source": []
  }
 ],
 "metadata": {
  "kernelspec": {
   "display_name": "Python 3 (ipykernel)",
   "language": "python",
   "name": "python3"
  },
  "language_info": {
   "codemirror_mode": {
    "name": "ipython",
    "version": 3
   },
   "file_extension": ".py",
   "mimetype": "text/x-python",
   "name": "python",
   "nbconvert_exporter": "python",
   "pygments_lexer": "ipython3",
   "version": "3.9.7"
  }
 },
 "nbformat": 4,
 "nbformat_minor": 5
}

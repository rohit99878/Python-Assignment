{
 "cells": [
  {
   "cell_type": "markdown",
   "metadata": {},
   "source": [
    "# assignment-1\n",
    "\n",
    "Use the \"Run\" button to execute the code."
   ]
  },
  {
   "cell_type": "code",
   "execution_count": null,
   "metadata": {},
   "outputs": [],
   "source": [
    "!pip install jovian --upgrade --quiet"
   ]
  },
  {
   "cell_type": "code",
   "execution_count": null,
   "metadata": {},
   "outputs": [],
   "source": [
    "import jovian"
   ]
  },
  {
   "cell_type": "code",
   "execution_count": null,
   "metadata": {},
   "outputs": [],
   "source": [
    "# Execute this to save new versions of the notebook\n",
    "jovian.commit(project=\"assignment-1\")"
   ]
  },
  {
   "cell_type": "markdown",
   "metadata": {},
   "source": [
    "### Q.1\n",
    "Given a two list. Create a\n",
    "third list by picking an odd-index element from the first list and even index\n",
    "elements from the second."
   ]
  },
  {
   "cell_type": "code",
   "execution_count": 1,
   "metadata": {},
   "outputs": [
    {
     "name": "stdout",
     "output_type": "stream",
     "text": [
      "Element at odd-index positions from list one \n",
      " [6, 12, 18]\n",
      "Element at even-index positions from list one\n",
      " [4, 12, 20, 28]\n",
      "Printing final third list\n",
      " [6, 12, 18, 4, 12, 20, 28]\n"
     ]
    }
   ],
   "source": [
    "listOne = [3, 6, 9, 12, 15, 18, 21]\n",
    "listTwo = [4, 8, 12, 16, 20, 24, 28]\n",
    "finalList=[]\n",
    "odd=listOne[1::2]\n",
    "even=listTwo[::2]\n",
    "finalList.extend(odd)\n",
    "finalList.extend(even)\n",
    "print(\"Element at odd-index positions from list one \\n\",odd)\n",
    "print(\"Element at even-index positions from list one\\n\",even)\n",
    "print(\"Printing final third list\\n\",finalList)"
   ]
  },
  {
   "cell_type": "markdown",
   "metadata": {},
   "source": [
    "### Q.2\n",
    "Given a number count the total\n",
    "number of digits in a number"
   ]
  },
  {
   "cell_type": "code",
   "execution_count": 2,
   "metadata": {},
   "outputs": [
    {
     "name": "stdout",
     "output_type": "stream",
     "text": [
      "Enter a number : 12331544\n",
      "Number of digits in given number =  8\n"
     ]
    }
   ],
   "source": [
    "a=input(\"Enter a number : \")\n",
    "print(\"Number of digits in given number = \",len(a))"
   ]
  },
  {
   "cell_type": "markdown",
   "metadata": {},
   "source": [
    "### Q3\n",
    "Write a Python program to print the numbers of a\n",
    "specified list after removing even numbers from it. "
   ]
  },
  {
   "cell_type": "code",
   "execution_count": 4,
   "metadata": {},
   "outputs": [
    {
     "name": "stdout",
     "output_type": "stream",
     "text": [
      "[5, 11, 25, 47, 125]\n"
     ]
    }
   ],
   "source": [
    "a=[5,6,11,24,25,32,47,50,100,125]\n",
    "for i in a[:]:\n",
    "    if(i%2==0):\n",
    "        a.remove(i)\n",
    "print(a)"
   ]
  },
  {
   "cell_type": "markdown",
   "metadata": {},
   "source": [
    "### Q.4\n",
    "Write a Python program to generate and print a list of\n",
    "first and last 5 elements where the values are square of numbers between 1 and\n",
    "30 (both included).  "
   ]
  },
  {
   "cell_type": "code",
   "execution_count": 1,
   "metadata": {},
   "outputs": [
    {
     "name": "stdout",
     "output_type": "stream",
     "text": [
      "[1, 4, 9, 16, 25, 36, 49, 64, 81, 100, 121, 144, 169, 196, 225, 256, 289, 324, 361, 400, 441, 484, 529, 576, 625, 676, 729, 784, 841, 900]\n",
      "[1, 4, 9, 16, 25, 676, 729, 784, 841, 900]\n"
     ]
    }
   ],
   "source": [
    "a=[]\n",
    "b=[]\n",
    "for i in range(1,31):\n",
    "  a.append(i**2)\n",
    "print(a)\n",
    "b=(a[:5])\n",
    "c=(a[25:30])\n",
    "b.extend(c)\n",
    "print(b)\n"
   ]
  },
  {
   "cell_type": "markdown",
   "metadata": {},
   "source": [
    "### Q.5 \n",
    "\n",
    "Write a Python program to generate all permutations of a list in Python."
   ]
  },
  {
   "cell_type": "code",
   "execution_count": null,
   "metadata": {},
   "outputs": [],
   "source": [
    "List=[1,2,3,4]\n",
    "def permutations(start, end=[]):\n",
    "    if len(start) == 0:\n",
    "        print(end)\n",
    "    else:\n",
    "        for i in range(len(start)):\n",
    "            permutations(start[:i] + start[i+1:], end + start[i:i+1])\n",
    "permutations(List)"
   ]
  },
  {
   "cell_type": "markdown",
   "metadata": {},
   "source": [
    "### Q.6\n",
    "Write a python program to check whether two lists are\n",
    "circularly identical"
   ]
  },
  {
   "cell_type": "code",
   "execution_count": null,
   "metadata": {},
   "outputs": [],
   "source": [
    "a=[]\n",
    "b=[]\n",
    "while True:\n",
    "  c=input('Enter the number in first list: ')\n",
    "  if c=='':\n",
    "    break\n",
    "  else:\n",
    "    a.append(c)\n",
    "print()\n",
    "print('Your First list is: ',a)\n",
    "print()\n",
    "while True:\n",
    "  c=input('Enter the number in second list: ')\n",
    "  if c=='':\n",
    "    break\n",
    "  else:\n",
    "    b.append(c)\n",
    "print()\n",
    "print('Your Second list is: ',b)\n",
    "print()\n",
    "a.sort()\n",
    "b.sort()\n",
    "#print(a)\n",
    "if a==b:\n",
    "  print(  'Two lists' ,a, 'and',b, 'are identical' )\n",
    "else:\n",
    "  print(  'Two lists' ,a, 'and',b, 'are not identical' )"
   ]
  },
  {
   "cell_type": "markdown",
   "metadata": {},
   "source": [
    "### Q.7\n",
    "\n",
    "Write a Python program to change the position of every n-th value with the (n+1)th in a list. "
   ]
  },
  {
   "cell_type": "code",
   "execution_count": null,
   "metadata": {},
   "outputs": [],
   "source": [
    "a=[]\n",
    "while True:\n",
    "  b=input('Enter the number')\n",
    "  if b=='':\n",
    "    break \n",
    "  else:\n",
    "    a.append(b)\n",
    "  n=len(a)\n",
    "#print(a)\n",
    "for i in range (0,n,2):\n",
    "  a[i],a[i+1]=a[i+1],a[i]\n",
    "  #pos1=0\n",
    "  #pos2=1\n",
    "  #a[pos1]=a[pos2]\n",
    "  #a[pos2]=a[pos1]\n",
    "  #pos1=pos1+2\n",
    "  #pos2=pos2+2\n",
    "print(a)"
   ]
  },
  {
   "cell_type": "markdown",
   "metadata": {},
   "source": [
    "### Q.8 \n",
    "\n",
    "Write a Python program to iterate over two lists simultaneously"
   ]
  },
  {
   "cell_type": "code",
   "execution_count": 1,
   "metadata": {},
   "outputs": [
    {
     "name": "stdout",
     "output_type": "stream",
     "text": [
      "Enter the number in first list: 33\n",
      "Enter the number in first list: 45\n",
      "Enter the number in first list: 35\n",
      "Enter the number in first list: 36\n",
      "Enter the number in first list: 25\n",
      "Enter the number in first list: \n",
      "\n",
      "Your First list is:  ['33', '45', '35', '36', '25']\n",
      "Enter the number in second list: 22\n",
      "Enter the number in second list: 33\n",
      "Enter the number in second list: 11\n",
      "Enter the number in second list: \n",
      "33 45 35 36 25 22 33 11 "
     ]
    }
   ],
   "source": [
    "a1=[]\n",
    "b1=[]\n",
    "c=[]\n",
    "while True:\n",
    "  c=input('Enter the number in first list: ')\n",
    "  if c=='':\n",
    "    break\n",
    "  else:\n",
    "    a1.append(c)\n",
    "print()\n",
    "print('Your First list is: ',a1)\n",
    "while True:\n",
    "  c=input('Enter the number in second list: ')\n",
    "  if c=='':\n",
    "    break\n",
    "  else:\n",
    "    b1.append(c)\n",
    "for i in a1+b1:\n",
    "  print(i,end=\" \")"
   ]
  },
  {
   "cell_type": "markdown",
   "metadata": {},
   "source": [
    "### Q.9\n",
    "\n",
    "Write a Python program to generate the combinations of ndistinct objects taken from the elements of a given list. Original list: [1, 2, 3, 4, 5, 6, 7, 8, 9] Combinations of 2\n",
    "#distinct objects: [1, 2] [1, 3] [1, 4] [1, 5] .... [7, 8] [7, 9] [8, 9]"
   ]
  },
  {
   "cell_type": "code",
   "execution_count": 2,
   "metadata": {},
   "outputs": [
    {
     "name": "stdout",
     "output_type": "stream",
     "text": [
      "Enter the number in first list: 2\n",
      "Enter the number in first list: 3\n",
      "Enter the number in first list: 5\n",
      "Enter the number in first list: 7\n",
      "Enter the number in first list: 35\n",
      "Enter the number in first list: \n",
      "('2', '3')('2', '5')('2', '7')('2', '35')('3', '5')('3', '7')('3', '35')('5', '7')('35', '5')('35', '7')"
     ]
    }
   ],
   "source": [
    "a=[]\n",
    "b=[]\n",
    "while True:\n",
    "  c=input('Enter the number in first list: ')\n",
    "  if c=='':\n",
    "    break\n",
    "  else:\n",
    "    a.append(c)\n",
    "n=len(a)\n",
    "for i in a:\n",
    "  for j in a:\n",
    "    if i!=j and i<j:\n",
    "      print((i,j),end='')"
   ]
  },
  {
   "cell_type": "markdown",
   "metadata": {},
   "source": [
    "### Q.10\n",
    "\n",
    "Write a Python program to remove duplicates from a list of\n",
    "lists."
   ]
  },
  {
   "cell_type": "code",
   "execution_count": 4,
   "metadata": {},
   "outputs": [
    {
     "name": "stdout",
     "output_type": "stream",
     "text": [
      "[[10, 20], [30, 56, 25], [33], [40]]\n"
     ]
    }
   ],
   "source": [
    "a = [[10, 20], [40], [30, 56, 25], [10, 20], [33],[40]]\n",
    "a = sorted(a)\n",
    "b = []\n",
    "for i in a:\n",
    "    if i not in b:\n",
    "        b.append(i)\n",
    "print(b)"
   ]
  }
 ],
 "metadata": {
  "language_info": {
   "codemirror_mode": {
    "name": "ipython",
    "version": 3
   },
   "file_extension": ".py",
   "mimetype": "text/x-python",
   "name": "python",
   "nbconvert_exporter": "python",
   "pygments_lexer": "ipython3",
   "version": "3.9.6"
  }
 },
 "nbformat": 4,
 "nbformat_minor": 2
}